{
 "cells": [
  {
   "cell_type": "code",
   "execution_count": 1,
   "metadata": {},
   "outputs": [],
   "source": [
    "# imports\n",
    "import requests\n",
    "import sqlalchemy as db\n",
    "import pandas as pd\n",
    "from bs4 import BeautifulSoup as bs\n",
    "from alchemyDB import *"
   ]
  },
  {
   "cell_type": "code",
   "execution_count": 2,
   "metadata": {},
   "outputs": [],
   "source": [
    "# make DB?\n",
    "engine = db.create_engine('sqlite:///bgg.sqlite')\n",
    "\n",
    "connection = engine.connect()\n",
    "\n",
    "metadata = db.MetaData()\n",
    "\n",
    "Base.metadata.create_all(engine)"
   ]
  },
  {
   "cell_type": "code",
   "execution_count": 10,
   "metadata": {},
   "outputs": [
    {
     "data": {
      "text/plain": [
       "Table('games', MetaData(bind=None), Column('id', Integer(), table=<games>, primary_key=True, nullable=False), Column('name', String(), table=<games>), Column('description', String(), table=<games>), Column('published', Integer(), table=<games>), Column('minplayers', Integer(), table=<games>), Column('maxplayers', Integer(), table=<games>), Column('suggested_numplayers', Integer(), table=<games>), Column('playingtime', Integer(), table=<games>), Column('minplaytime', Integer(), table=<games>), Column('maxplaytime', Integer(), table=<games>), Column('minage', Integer(), table=<games>), Column('suggested_playerage', Integer(), table=<games>), Column('language_dependence', Boolean(), table=<games>), Column('designer', String(), table=<games>), schema=None)"
      ]
     },
     "execution_count": 10,
     "metadata": {},
     "output_type": "execute_result"
    }
   ],
   "source": [
    "Game.__table__"
   ]
  },
  {
   "cell_type": "markdown",
   "metadata": {},
   "source": [
    "Test 1 request pull"
   ]
  },
  {
   "cell_type": "code",
   "execution_count": 11,
   "metadata": {},
   "outputs": [],
   "source": [
    "base = 'https://boardgamegeek.com/xmlapi2/thing?id' # ex: =30549&type=boardgame,boardgameexpansion'"
   ]
  },
  {
   "cell_type": "code",
   "execution_count": 12,
   "metadata": {},
   "outputs": [],
   "source": [
    "req=requests.get(base+'=1&type=boardgame,boardgameexpansion')"
   ]
  },
  {
   "cell_type": "code",
   "execution_count": 13,
   "metadata": {},
   "outputs": [],
   "source": [
    "soup = bs(req.content, 'xml')"
   ]
  },
  {
   "cell_type": "code",
   "execution_count": 28,
   "metadata": {
    "collapsed": true
   },
   "outputs": [
    {
     "data": {
      "text/plain": [
       "[<poll name=\"suggested_numplayers\" title=\"User Suggested Number of Players\" totalvotes=\"125\">\n",
       " <results numplayers=\"1\">\n",
       " <result numvotes=\"0\" value=\"Best\"/>\n",
       " <result numvotes=\"1\" value=\"Recommended\"/>\n",
       " <result numvotes=\"78\" value=\"Not Recommended\"/>\n",
       " </results>\n",
       " <results numplayers=\"2\">\n",
       " <result numvotes=\"0\" value=\"Best\"/>\n",
       " <result numvotes=\"1\" value=\"Recommended\"/>\n",
       " <result numvotes=\"79\" value=\"Not Recommended\"/>\n",
       " </results>\n",
       " <results numplayers=\"3\">\n",
       " <result numvotes=\"1\" value=\"Best\"/>\n",
       " <result numvotes=\"25\" value=\"Recommended\"/>\n",
       " <result numvotes=\"70\" value=\"Not Recommended\"/>\n",
       " </results>\n",
       " <results numplayers=\"4\">\n",
       " <result numvotes=\"23\" value=\"Best\"/>\n",
       " <result numvotes=\"81\" value=\"Recommended\"/>\n",
       " <result numvotes=\"9\" value=\"Not Recommended\"/>\n",
       " </results>\n",
       " <results numplayers=\"5\">\n",
       " <result numvotes=\"106\" value=\"Best\"/>\n",
       " <result numvotes=\"12\" value=\"Recommended\"/>\n",
       " <result numvotes=\"2\" value=\"Not Recommended\"/>\n",
       " </results>\n",
       " <results numplayers=\"5+\">\n",
       " <result numvotes=\"1\" value=\"Best\"/>\n",
       " <result numvotes=\"0\" value=\"Recommended\"/>\n",
       " <result numvotes=\"56\" value=\"Not Recommended\"/>\n",
       " </results>\n",
       " </poll>,\n",
       " <poll name=\"suggested_playerage\" title=\"User Suggested Player Age\" totalvotes=\"29\">\n",
       " <results>\n",
       " <result numvotes=\"0\" value=\"2\"/>\n",
       " <result numvotes=\"0\" value=\"3\"/>\n",
       " <result numvotes=\"0\" value=\"4\"/>\n",
       " <result numvotes=\"0\" value=\"5\"/>\n",
       " <result numvotes=\"0\" value=\"6\"/>\n",
       " <result numvotes=\"0\" value=\"8\"/>\n",
       " <result numvotes=\"0\" value=\"10\"/>\n",
       " <result numvotes=\"6\" value=\"12\"/>\n",
       " <result numvotes=\"16\" value=\"14\"/>\n",
       " <result numvotes=\"4\" value=\"16\"/>\n",
       " <result numvotes=\"2\" value=\"18\"/>\n",
       " <result numvotes=\"1\" value=\"21 and up\"/>\n",
       " </results>\n",
       " </poll>,\n",
       " <poll name=\"language_dependence\" title=\"Language Dependence\" totalvotes=\"47\">\n",
       " <results>\n",
       " <result level=\"1\" numvotes=\"36\" value=\"No necessary in-game text\"/>\n",
       " <result level=\"2\" numvotes=\"5\" value=\"Some necessary text - easily memorized or small crib sheet\"/>\n",
       " <result level=\"3\" numvotes=\"6\" value=\"Moderate in-game text - needs crib sheet or paste ups\"/>\n",
       " <result level=\"4\" numvotes=\"0\" value=\"Extensive use of text - massive conversion needed to be playable\"/>\n",
       " <result level=\"5\" numvotes=\"0\" value=\"Unplayable in another language\"/>\n",
       " </results>\n",
       " </poll>]"
      ]
     },
     "execution_count": 28,
     "metadata": {},
     "output_type": "execute_result"
    }
   ],
   "source": [
    "# need to find way to loop through poll and find winning value\n",
    "soup.find_all('poll')"
   ]
  },
  {
   "cell_type": "code",
   "execution_count": 29,
   "metadata": {},
   "outputs": [],
   "source": [
    "# testing schema for adding a game from soup\n",
    "game = Game(\n",
    "    id = 1,\n",
    "    name=soup.find('name')['value'],\n",
    "    description=soup.find('description').text,\n",
    "    published=int(soup.find('yearpublished')['value']),\n",
    "    minplayers=int(soup.find('minplayers')['value']),\n",
    "    maxplayers=int(soup.find('maxplayers')['value']),\n",
    "    #suggested_numplayers,\n",
    "    playingtime=int(soup.find('playingtime')['value']),\n",
    "    minplaytime=int(soup.find('minplaytime')['value']),\n",
    "    maxplaytime=int(soup.find('maxplaytime')['value']),\n",
    "    minage=int(soup.find('minage')['value'])\n",
    "    #,suggested_playerage=,\n",
    "    #language_dependence=\n",
    "    #,designer=\"\"\n",
    ")"
   ]
  },
  {
   "cell_type": "code",
   "execution_count": 33,
   "metadata": {},
   "outputs": [],
   "source": [
    "# connect to DB?\n",
    "from sqlalchemy.orm import sessionmaker\n",
    "Session = sessionmaker(bind=engine)\n",
    "session=Session()"
   ]
  },
  {
   "cell_type": "code",
   "execution_count": 55,
   "metadata": {},
   "outputs": [],
   "source": [
    "session.rollback()"
   ]
  },
  {
   "cell_type": "code",
   "execution_count": 57,
   "metadata": {},
   "outputs": [],
   "source": [
    "# Not tested yet\n",
    "for i in range(1,501):\n",
    "    req = requests.get(base +f'={i}&type=boardgame,boardgameexpansion')\n",
    "    soup = bs(req.content, 'xml')\n",
    "    if soup.find('name'):\n",
    "        game = Game(\n",
    "            id = i,\n",
    "            name=soup.find('name')['value'],\n",
    "            description=soup.find('description').text,\n",
    "            published=int(soup.find('yearpublished')['value']),\n",
    "            minplayers=int(soup.find('minplayers')['value']),\n",
    "            maxplayers=int(soup.find('maxplayers')['value']),\n",
    "            #suggested_numplayers,\n",
    "            playingtime=int(soup.find('playingtime')['value']),\n",
    "            minplaytime=int(soup.find('minplaytime')['value']),\n",
    "            maxplaytime=int(soup.find('maxplaytime')['value']),\n",
    "            minage=int(soup.find('minage')['value'])\n",
    "            #,suggested_playerage=,\n",
    "            #language_dependence=\n",
    "            #,designer=\"\"\n",
    "        )\n",
    "        session.add(game)\n",
    "        session.commit()\n",
    "    "
   ]
  },
  {
   "cell_type": "code",
   "execution_count": 41,
   "metadata": {},
   "outputs": [],
   "source": [
    "from sqlalchemy import inspect\n",
    "\n",
    "inspector = inspect(engine)"
   ]
  },
  {
   "cell_type": "code",
   "execution_count": 42,
   "metadata": {},
   "outputs": [
    {
     "name": "stdout",
     "output_type": "stream",
     "text": [
      "['games']\n"
     ]
    }
   ],
   "source": [
    "print(inspector.get_table_names())"
   ]
  },
  {
   "cell_type": "code",
   "execution_count": 43,
   "metadata": {},
   "outputs": [
    {
     "name": "stdout",
     "output_type": "stream",
     "text": [
      "[{'name': 'id', 'type': INTEGER(), 'nullable': False, 'default': None, 'autoincrement': 'auto', 'primary_key': 1}, {'name': 'name', 'type': VARCHAR(), 'nullable': True, 'default': None, 'autoincrement': 'auto', 'primary_key': 0}, {'name': 'description', 'type': VARCHAR(), 'nullable': True, 'default': None, 'autoincrement': 'auto', 'primary_key': 0}, {'name': 'published', 'type': INTEGER(), 'nullable': True, 'default': None, 'autoincrement': 'auto', 'primary_key': 0}, {'name': 'minplayers', 'type': INTEGER(), 'nullable': True, 'default': None, 'autoincrement': 'auto', 'primary_key': 0}, {'name': 'maxplayers', 'type': INTEGER(), 'nullable': True, 'default': None, 'autoincrement': 'auto', 'primary_key': 0}, {'name': 'suggested_numplayers', 'type': INTEGER(), 'nullable': True, 'default': None, 'autoincrement': 'auto', 'primary_key': 0}, {'name': 'playingtime', 'type': INTEGER(), 'nullable': True, 'default': None, 'autoincrement': 'auto', 'primary_key': 0}, {'name': 'minplaytime', 'type': INTEGER(), 'nullable': True, 'default': None, 'autoincrement': 'auto', 'primary_key': 0}, {'name': 'maxplaytime', 'type': INTEGER(), 'nullable': True, 'default': None, 'autoincrement': 'auto', 'primary_key': 0}, {'name': 'minage', 'type': INTEGER(), 'nullable': True, 'default': None, 'autoincrement': 'auto', 'primary_key': 0}, {'name': 'suggested_playerage', 'type': INTEGER(), 'nullable': True, 'default': None, 'autoincrement': 'auto', 'primary_key': 0}, {'name': 'language_dependence', 'type': BOOLEAN(), 'nullable': True, 'default': None, 'autoincrement': 'auto', 'primary_key': 0}, {'name': 'designer', 'type': VARCHAR(), 'nullable': True, 'default': None, 'autoincrement': 'auto', 'primary_key': 0}]\n"
     ]
    }
   ],
   "source": [
    "print(inspector.get_columns('games'))"
   ]
  },
  {
   "cell_type": "code",
   "execution_count": 58,
   "metadata": {},
   "outputs": [
    {
     "data": {
      "text/html": [
       "<div>\n",
       "<style scoped>\n",
       "    .dataframe tbody tr th:only-of-type {\n",
       "        vertical-align: middle;\n",
       "    }\n",
       "\n",
       "    .dataframe tbody tr th {\n",
       "        vertical-align: top;\n",
       "    }\n",
       "\n",
       "    .dataframe thead th {\n",
       "        text-align: right;\n",
       "    }\n",
       "</style>\n",
       "<table border=\"1\" class=\"dataframe\">\n",
       "  <thead>\n",
       "    <tr style=\"text-align: right;\">\n",
       "      <th></th>\n",
       "      <th>id</th>\n",
       "      <th>name</th>\n",
       "      <th>description</th>\n",
       "      <th>published</th>\n",
       "      <th>minplayers</th>\n",
       "      <th>maxplayers</th>\n",
       "      <th>suggested_numplayers</th>\n",
       "      <th>playingtime</th>\n",
       "      <th>minplaytime</th>\n",
       "      <th>maxplaytime</th>\n",
       "      <th>minage</th>\n",
       "      <th>suggested_playerage</th>\n",
       "      <th>language_dependence</th>\n",
       "      <th>designer</th>\n",
       "    </tr>\n",
       "  </thead>\n",
       "  <tbody>\n",
       "    <tr>\n",
       "      <th>80</th>\n",
       "      <td>391</td>\n",
       "      <td>Ocean</td>\n",
       "      <td>The idea is for players to populate the variou...</td>\n",
       "      <td>1999</td>\n",
       "      <td>2</td>\n",
       "      <td>6</td>\n",
       "      <td>None</td>\n",
       "      <td>20</td>\n",
       "      <td>20</td>\n",
       "      <td>20</td>\n",
       "      <td>8</td>\n",
       "      <td>None</td>\n",
       "      <td>None</td>\n",
       "      <td>None</td>\n",
       "    </tr>\n",
       "    <tr>\n",
       "      <th>81</th>\n",
       "      <td>431</td>\n",
       "      <td>Alhambra: The Card Game</td>\n",
       "      <td>Alhambra: The Card Game is a game that both in...</td>\n",
       "      <td>1992</td>\n",
       "      <td>3</td>\n",
       "      <td>6</td>\n",
       "      <td>None</td>\n",
       "      <td>45</td>\n",
       "      <td>45</td>\n",
       "      <td>45</td>\n",
       "      <td>10</td>\n",
       "      <td>None</td>\n",
       "      <td>None</td>\n",
       "      <td>None</td>\n",
       "    </tr>\n",
       "    <tr>\n",
       "      <th>82</th>\n",
       "      <td>451</td>\n",
       "      <td>Beutelschneider</td>\n",
       "      <td>Translated as Cutpurse, this is a fairly uniqu...</td>\n",
       "      <td>1997</td>\n",
       "      <td>3</td>\n",
       "      <td>4</td>\n",
       "      <td>None</td>\n",
       "      <td>30</td>\n",
       "      <td>30</td>\n",
       "      <td>30</td>\n",
       "      <td>0</td>\n",
       "      <td>None</td>\n",
       "      <td>None</td>\n",
       "      <td>None</td>\n",
       "    </tr>\n",
       "    <tr>\n",
       "      <th>83</th>\n",
       "      <td>470</td>\n",
       "      <td>Road to the White House</td>\n",
       "      <td>extrapolated from the preview:&amp;#10;&amp;#10;The es...</td>\n",
       "      <td>1992</td>\n",
       "      <td>3</td>\n",
       "      <td>6</td>\n",
       "      <td>None</td>\n",
       "      <td>240</td>\n",
       "      <td>240</td>\n",
       "      <td>240</td>\n",
       "      <td>12</td>\n",
       "      <td>None</td>\n",
       "      <td>None</td>\n",
       "      <td>None</td>\n",
       "    </tr>\n",
       "    <tr>\n",
       "      <th>84</th>\n",
       "      <td>490</td>\n",
       "      <td>Warangel</td>\n",
       "      <td>Warangel is a light, fantasy wargame, comprisi...</td>\n",
       "      <td>2000</td>\n",
       "      <td>2</td>\n",
       "      <td>6</td>\n",
       "      <td>None</td>\n",
       "      <td>60</td>\n",
       "      <td>60</td>\n",
       "      <td>60</td>\n",
       "      <td>12</td>\n",
       "      <td>None</td>\n",
       "      <td>None</td>\n",
       "      <td>None</td>\n",
       "    </tr>\n",
       "  </tbody>\n",
       "</table>\n",
       "</div>"
      ],
      "text/plain": [
       "     id                     name  \\\n",
       "80  391                    Ocean   \n",
       "81  431  Alhambra: The Card Game   \n",
       "82  451          Beutelschneider   \n",
       "83  470  Road to the White House   \n",
       "84  490                 Warangel   \n",
       "\n",
       "                                          description  published  minplayers  \\\n",
       "80  The idea is for players to populate the variou...       1999           2   \n",
       "81  Alhambra: The Card Game is a game that both in...       1992           3   \n",
       "82  Translated as Cutpurse, this is a fairly uniqu...       1997           3   \n",
       "83  extrapolated from the preview:&#10;&#10;The es...       1992           3   \n",
       "84  Warangel is a light, fantasy wargame, comprisi...       2000           2   \n",
       "\n",
       "    maxplayers suggested_numplayers  playingtime  minplaytime  maxplaytime  \\\n",
       "80           6                 None           20           20           20   \n",
       "81           6                 None           45           45           45   \n",
       "82           4                 None           30           30           30   \n",
       "83           6                 None          240          240          240   \n",
       "84           6                 None           60           60           60   \n",
       "\n",
       "    minage suggested_playerage language_dependence designer  \n",
       "80       8                None                None     None  \n",
       "81      10                None                None     None  \n",
       "82       0                None                None     None  \n",
       "83      12                None                None     None  \n",
       "84      12                None                None     None  "
      ]
     },
     "execution_count": 58,
     "metadata": {},
     "output_type": "execute_result"
    }
   ],
   "source": [
    "df = pd.read_sql_query(\"SELECT * FROM games\", engine)\n",
    "df.tail()"
   ]
  },
  {
   "cell_type": "code",
   "execution_count": null,
   "metadata": {},
   "outputs": [],
   "source": []
  }
 ],
 "metadata": {
  "kernelspec": {
   "display_name": "Python 3",
   "language": "python",
   "name": "python3"
  },
  "language_info": {
   "codemirror_mode": {
    "name": "ipython",
    "version": 3
   },
   "file_extension": ".py",
   "mimetype": "text/x-python",
   "name": "python",
   "nbconvert_exporter": "python",
   "pygments_lexer": "ipython3",
   "version": "3.7.3"
  }
 },
 "nbformat": 4,
 "nbformat_minor": 2
}
