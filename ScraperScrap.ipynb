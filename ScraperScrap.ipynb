{
 "cells": [
  {
   "cell_type": "code",
   "execution_count": 1,
   "metadata": {},
   "outputs": [],
   "source": [
    "# imports\n",
    "import requests\n",
    "from alchemyDB import *\n",
    "from create_objects import *\n",
    "import sqlalchemy\n",
    "import time\n",
    "import re\n",
    "import pprint\n",
    "from sqlalchemy.orm import sessionmaker\n",
    "from sqlalchemy.sql.expression import func\n",
    "from sqlalchemy import inspect\n",
    "import pickle\n",
    "import pandas as pd\n",
    "import matplotlib.pyplot as plt"
   ]
  },
  {
   "cell_type": "code",
   "execution_count": 3,
   "metadata": {},
   "outputs": [],
   "source": [
    "## Run this to recreate the DB\n",
    "# make_db()"
   ]
  },
  {
   "cell_type": "code",
   "execution_count": 2,
   "metadata": {},
   "outputs": [],
   "source": [
    "engine = create_engine('sqlite:///boardgames.db')\n",
    "\n",
    "Session = sessionmaker(bind=engine, autoflush=False)\n",
    "session = Session()"
   ]
  },
  {
   "cell_type": "markdown",
   "metadata": {},
   "source": [
    "## Connecting to the database"
   ]
  },
  {
   "cell_type": "code",
   "execution_count": 2,
   "metadata": {},
   "outputs": [
    {
     "data": {
      "text/plain": [
       "1919"
      ]
     },
     "execution_count": 4,
     "metadata": {},
     "output_type": "execute_result"
    }
   ],
   "source": [
    "engine = create_engine('sqlite:///boardgames.db')\n",
    "\n",
    "Session = sessionmaker(bind=engine, autoflush=False)\n",
    "session = Session()"
   ]
  },
  {
   "cell_type": "code",
   "execution_count": 131,
   "metadata": {},
   "outputs": [],
   "source": [
    "inspector = inspect(engine)"
   ]
  },
  {
   "cell_type": "code",
   "execution_count": 132,
   "metadata": {},
   "outputs": [
    {
     "name": "stdout",
     "output_type": "stream",
     "text": [
      "['artists', 'categories', 'games', 'games_artists', 'games_categories', 'games_mechanics', 'mechanics']\n"
     ]
    }
   ],
   "source": [
    "print(inspector.get_table_names())"
   ]
  },
  {
   "cell_type": "code",
   "execution_count": 133,
   "metadata": {},
   "outputs": [
    {
     "name": "stdout",
     "output_type": "stream",
     "text": [
      "['id', 'name', 'description', 'ratingscount', 'avgrating', 'published', 'minplayers', 'maxplayers', 'best', 'recommended', 'not_recommended', 'playingtime', 'minplaytime', 'maxplaytime', 'minage', 'suggestedage', 'language_dependence', 'designer', 'publisher']\n"
     ]
    }
   ],
   "source": [
    "print([column['name'] for column in inspector.get_columns('games')])"
   ]
  },
  {
   "cell_type": "code",
   "execution_count": 5,
   "metadata": {},
   "outputs": [],
   "source": [
    "# load values saved from scrape\n",
    "expansions=pickle.load(open('expansions.p','rb'))\n",
    "notgames=pickle.load(open('notgames.p','rb'))"
   ]
  },
  {
   "cell_type": "code",
   "execution_count": 38,
   "metadata": {},
   "outputs": [
    {
     "name": "stdout",
     "output_type": "stream",
     "text": [
      "Processed 17314 lines.\n"
     ]
    }
   ],
   "source": [
    "# load game ids with more than 30 reviews\n",
    "import csv\n",
    "\n",
    "game_ids=[]\n",
    "with open('2019-07-08.csv') as csv_file:\n",
    "    csv_reader = csv.reader(csv_file, delimiter=',')\n",
    "    line_count = 0\n",
    "    for row in csv_reader:\n",
    "        if line_count == 0:\n",
    "            pass\n",
    "        else:\n",
    "            game_ids.append(int(row[0]))\n",
    "        line_count+=1\n",
    "    print(f'Processed {line_count} lines.')"
   ]
  },
  {
   "cell_type": "code",
   "execution_count": 53,
   "metadata": {},
   "outputs": [
    {
     "data": {
      "text/plain": [
       "17313"
      ]
     },
     "execution_count": 53,
     "metadata": {},
     "output_type": "execute_result"
    }
   ],
   "source": [
    "len(game_ids)"
   ]
  },
  {
   "cell_type": "code",
   "execution_count": 99,
   "metadata": {},
   "outputs": [],
   "source": [
    "# load game ids currently in DB\n",
    "current_ids = [game.id for game in session.query(Game).all()]"
   ]
  },
  {
   "cell_type": "code",
   "execution_count": 100,
   "metadata": {},
   "outputs": [
    {
     "data": {
      "text/plain": [
       "17575"
      ]
     },
     "execution_count": 100,
     "metadata": {},
     "output_type": "execute_result"
    }
   ],
   "source": [
    "len(current_ids)"
   ]
  },
  {
   "cell_type": "code",
   "execution_count": 101,
   "metadata": {
    "scrolled": true
   },
   "outputs": [
    {
     "data": {
      "text/plain": [
       "22017"
      ]
     },
     "execution_count": 101,
     "metadata": {},
     "output_type": "execute_result"
    }
   ],
   "source": [
    "len(expansions)"
   ]
  },
  {
   "cell_type": "code",
   "execution_count": 102,
   "metadata": {},
   "outputs": [],
   "source": [
    "missing = list(set(game_ids)-set(current_ids))"
   ]
  },
  {
   "cell_type": "code",
   "execution_count": 103,
   "metadata": {},
   "outputs": [
    {
     "data": {
      "text/plain": [
       "5"
      ]
     },
     "execution_count": 103,
     "metadata": {},
     "output_type": "execute_result"
    }
   ],
   "source": [
    "# pretty sure these are expansions\n",
    "len(missing)"
   ]
  },
  {
   "cell_type": "code",
   "execution_count": 92,
   "metadata": {},
   "outputs": [
    {
     "data": {
      "text/plain": [
       "22017"
      ]
     },
     "execution_count": 92,
     "metadata": {},
     "output_type": "execute_result"
    }
   ],
   "source": [
    "len(list(expansions))"
   ]
  },
  {
   "cell_type": "code",
   "execution_count": 123,
   "metadata": {},
   "outputs": [
    {
     "data": {
      "text/plain": [
       "['Blood Bowl (Third Edition)', 'Zooloretto']"
      ]
     },
     "execution_count": 123,
     "metadata": {},
     "output_type": "execute_result"
    }
   ],
   "source": [
    "[game.name for game in session.query(Game).filter(Game.id.in_(expansions)).all()]"
   ]
  },
  {
   "cell_type": "markdown",
   "metadata": {},
   "source": [
    "## Scraping BGG"
   ]
  },
  {
   "cell_type": "code",
   "execution_count": 58,
   "metadata": {
    "collapsed": true
   },
   "outputs": [
    {
     "name": "stdout",
     "output_type": "stream",
     "text": [
      "[{'name': 'id', 'type': INTEGER(), 'nullable': False, 'default': None, 'autoincrement': 'auto', 'primary_key': 1}, {'name': 'name', 'type': VARCHAR(), 'nullable': True, 'default': None, 'autoincrement': 'auto', 'primary_key': 0}, {'name': 'description', 'type': VARCHAR(), 'nullable': True, 'default': None, 'autoincrement': 'auto', 'primary_key': 0}, {'name': 'ratingscount', 'type': INTEGER(), 'nullable': True, 'default': None, 'autoincrement': 'auto', 'primary_key': 0}, {'name': 'avgrating', 'type': FLOAT(), 'nullable': True, 'default': None, 'autoincrement': 'auto', 'primary_key': 0}, {'name': 'published', 'type': INTEGER(), 'nullable': True, 'default': None, 'autoincrement': 'auto', 'primary_key': 0}, {'name': 'minplayers', 'type': INTEGER(), 'nullable': True, 'default': None, 'autoincrement': 'auto', 'primary_key': 0}, {'name': 'maxplayers', 'type': INTEGER(), 'nullable': True, 'default': None, 'autoincrement': 'auto', 'primary_key': 0}, {'name': 'best', 'type': INTEGER(), 'nullable': True, 'default': None, 'autoincrement': 'auto', 'primary_key': 0}, {'name': 'recommended', 'type': INTEGER(), 'nullable': True, 'default': None, 'autoincrement': 'auto', 'primary_key': 0}, {'name': 'not_recommended', 'type': INTEGER(), 'nullable': True, 'default': None, 'autoincrement': 'auto', 'primary_key': 0}, {'name': 'playingtime', 'type': INTEGER(), 'nullable': True, 'default': None, 'autoincrement': 'auto', 'primary_key': 0}, {'name': 'minplaytime', 'type': INTEGER(), 'nullable': True, 'default': None, 'autoincrement': 'auto', 'primary_key': 0}, {'name': 'maxplaytime', 'type': INTEGER(), 'nullable': True, 'default': None, 'autoincrement': 'auto', 'primary_key': 0}, {'name': 'minage', 'type': INTEGER(), 'nullable': True, 'default': None, 'autoincrement': 'auto', 'primary_key': 0}, {'name': 'suggestedage', 'type': INTEGER(), 'nullable': True, 'default': None, 'autoincrement': 'auto', 'primary_key': 0}, {'name': 'language_dependence', 'type': INTEGER(), 'nullable': True, 'default': None, 'autoincrement': 'auto', 'primary_key': 0}, {'name': 'designer', 'type': VARCHAR(), 'nullable': True, 'default': None, 'autoincrement': 'auto', 'primary_key': 0}, {'name': 'publisher', 'type': VARCHAR(), 'nullable': True, 'default': None, 'autoincrement': 'auto', 'primary_key': 0}]\n"
     ]
    }
   ],
   "source": [
    "# run to scrape all ids with more than 30 reviews\n",
    "for count, i in enumerate(game_ids):\n",
    "    # make sure id is not currently in DB or marked as an expansion from a past scrape\n",
    "    if (i not in expansions) & (i not in current_ids):\n",
    "        address = f'https://boardgamegeek.com/xmlapi2/thing?id={i}&type=boardgame&stats=1'\n",
    "        req = requests.get(address)\n",
    "        if re.search(b'id=',req.content):\n",
    "            # save game i to DB and save all of the ids associated with its expansions\n",
    "            expansions.extend(instantiate_games(req, i))\n",
    "        elif re.search(b'Rate limit exceeded.', req.content):\n",
    "            # hit the server too hard, relax\n",
    "            print('Zzzz')\n",
    "            time.sleep(10)\n",
    "            i-=1\n",
    "        else:\n",
    "            notgames.append(i)\n",
    "\n",
    "    if count%100==0:\n",
    "        print(f'100 more games! {get_game_collection()} collected total')\n",
    "        try:\n",
    "            pickle.dump(expansions, open( \"expansions.p\", \"wb+\" ) )\n",
    "            pickle.dump(notgames, open(\"notgames.p\",\"wb+\"))\n",
    "        except:\n",
    "            print('No pickle for you')"
   ]
  },
  {
   "cell_type": "code",
   "execution_count": 98,
   "metadata": {},
   "outputs": [
    {
     "name": "stdout",
     "output_type": "stream",
     "text": [
      "10 more games! 5 remaining\n"
     ]
    }
   ],
   "source": [
    "# run to scrape the above ids that are not currently in the DB\n",
    "for count, i in enumerate(missing):\n",
    "    if (i not in expansions) & (i not in current_ids):\n",
    "        address = f'https://boardgamegeek.com/xmlapi2/thing?id={i}&type=boardgame&stats=1'\n",
    "        req = requests.get(address)\n",
    "        if re.search(b'id=',req.content):\n",
    "            expansions.extend(instantiate_games(req, i))\n",
    "        elif re.search(b'Rate limit exceeded.', req.content):\n",
    "            print('Zzzz')\n",
    "            time.sleep(10)\n",
    "            i-=1\n",
    "        else:\n",
    "            notgames.append(i)\n",
    "\n",
    "    if count%10==0:\n",
    "        print(f'10 more games! {len(missing)-count} remaining')\n",
    "        try:\n",
    "            pickle.dump(expansions, open( \"expansions.p\", \"wb+\" ) )\n",
    "            pickle.dump(check, open(\"check.p\",\"wb+\"))\n",
    "            pickle.dump(notgames, open(\"notgames.p\",\"wb+\"))\n",
    "        except:\n",
    "            print('No pickle for you')"
   ]
  },
  {
   "cell_type": "code",
   "execution_count": 59,
   "metadata": {},
   "outputs": [],
   "source": [
    "# make sure all expansion ids found are saved\n",
    "pickle.dump(expansions, open( \"expansions.p\", \"wb+\" ) )\n",
    "pickle.dump(notgames, open(\"notgames.p\",\"wb+\"))"
   ]
  },
  {
   "cell_type": "code",
   "execution_count": 125,
   "metadata": {
    "collapsed": true
   },
   "outputs": [
    {
     "data": {
      "text/plain": [
       "b'<?xml version=\"1.0\" encoding=\"utf-8\"?><items termsofuse=\"https://boardgamegeek.com/xmlapi/termsofuse\"><item type=\"boardgame\" id=\"412\">\\n         <thumbnail>https://cf.geekdo-images.com/thumb/img/5NUsmxMoVQQUq4bsM-i-uFSndEg=/fit-in/200x150/pic1882905.jpg</thumbnail>\\n      <image>https://cf.geekdo-images.com/original/img/KcOm1Qcx_pSFVI3VcfkA35iceEw=/0x0/pic1882905.jpg</image>\\n                                     \\t\\t\\t\\t\\n\\t\\t\\t\\t<name type=\"primary\" sortindex=\"1\" value=\"Yukon Company\" />\\n\\t\\t\\t\\n\\t\\t\\t\\t\\t\\t                               \\t\\t\\t\\t\\n\\t\\t\\t\\t<name type=\"alternate\" sortindex=\"1\" value=\"Yukon Co.\" />\\n\\t\\t\\t\\n\\t\\t\\t\\t\\t\\t               \\t\\t\\t\\t\\t\\t\\t\\t\\t\\t\\t\\t\\t<description>In Yukon Company, you play a trader in Alaska who is buying goods at Dawson City and then taking them out to the prospectors at various creeks, and trying to make as much money as possible before the inevitable end of the gold rush.&amp;#10;&amp;#10;</description>\\n\\t\\t\\t\\t\\t\\t\\t\\t\\t\\t      \\t               \\t\\t\\t\\t<yearpublished value=\"1999\" />\\n\\t\\t\\t\\t\\t\\t               \\t\\t\\t\\t<minplayers value=\"4\" />\\n\\t\\t\\t\\t\\t\\t               \\t\\t\\t\\t<maxplayers value=\"6\" />\\n\\t\\t\\t\\t\\t\\t      \\t\\t\\t<poll name=\"suggested_numplayers\" title=\"User Suggested Number of Players\" totalvotes=\"0\">\\n\\t\\t\\t\\n\\t\\t<results numplayers=\"1\">\\t\\t\\n\\t\\t\\t\\t\\t<result value=\"Best\" numvotes=\"0\" />\\n\\t\\t\\t\\t\\t<result value=\"Recommended\" numvotes=\"0\" />\\n\\t\\t\\t\\t\\t<result value=\"Not Recommended\" numvotes=\"0\" />\\n\\t\\t\\t\\t</results>\\t\\t\\t\\t\\t\\n\\t\\t\\t\\n\\t\\t<results numplayers=\"2\">\\t\\t\\n\\t\\t\\t\\t\\t<result value=\"Best\" numvotes=\"0\" />\\n\\t\\t\\t\\t\\t<result value=\"Recommended\" numvotes=\"0\" />\\n\\t\\t\\t\\t\\t<result value=\"Not Recommended\" numvotes=\"0\" />\\n\\t\\t\\t\\t</results>\\t\\t\\t\\t\\t\\n\\t\\t\\t\\n\\t\\t<results numplayers=\"3\">\\t\\t\\n\\t\\t\\t\\t\\t<result value=\"Best\" numvotes=\"0\" />\\n\\t\\t\\t\\t\\t<result value=\"Recommended\" numvotes=\"0\" />\\n\\t\\t\\t\\t\\t<result value=\"Not Recommended\" numvotes=\"0\" />\\n\\t\\t\\t\\t</results>\\t\\t\\t\\t\\t\\n\\t\\t\\t\\n\\t\\t<results numplayers=\"4\">\\t\\t\\n\\t\\t\\t\\t\\t<result value=\"Best\" numvotes=\"0\" />\\n\\t\\t\\t\\t\\t<result value=\"Recommended\" numvotes=\"0\" />\\n\\t\\t\\t\\t\\t<result value=\"Not Recommended\" numvotes=\"0\" />\\n\\t\\t\\t\\t</results>\\t\\t\\t\\t\\t\\n\\t\\t\\t\\n\\t\\t<results numplayers=\"5\">\\t\\t\\n\\t\\t\\t\\t\\t<result value=\"Best\" numvotes=\"0\" />\\n\\t\\t\\t\\t\\t<result value=\"Recommended\" numvotes=\"0\" />\\n\\t\\t\\t\\t\\t<result value=\"Not Recommended\" numvotes=\"0\" />\\n\\t\\t\\t\\t</results>\\t\\t\\t\\t\\t\\n\\t\\t\\t\\n\\t\\t<results numplayers=\"6\">\\t\\t\\n\\t\\t\\t\\t\\t<result value=\"Best\" numvotes=\"0\" />\\n\\t\\t\\t\\t\\t<result value=\"Recommended\" numvotes=\"0\" />\\n\\t\\t\\t\\t\\t<result value=\"Not Recommended\" numvotes=\"0\" />\\n\\t\\t\\t\\t</results>\\t\\t\\t\\t\\t\\n\\t\\t\\t\\n\\t\\t<results numplayers=\"6+\">\\t\\t\\n\\t\\t\\t\\t\\t<result value=\"Best\" numvotes=\"0\" />\\n\\t\\t\\t\\t\\t<result value=\"Recommended\" numvotes=\"0\" />\\n\\t\\t\\t\\t\\t<result value=\"Not Recommended\" numvotes=\"0\" />\\n\\t\\t\\t\\t</results>\\t\\t\\t\\t\\t\\n\\t</poll> \\t\\t\\t               \\t\\t\\t\\t<playingtime value=\"120\" />\\n\\t\\t\\t\\t\\t\\t               \\t\\t\\t\\t<minplaytime value=\"120\" />\\n\\t\\t\\t\\t\\t\\t               \\t\\t\\t\\t<maxplaytime value=\"120\" />\\n\\t\\t\\t\\t\\t\\t               \\t\\t\\t\\t<minage value=\"10\" />\\n\\t\\t\\t\\t\\t\\t      \\t\\t\\t<poll name=\"suggested_playerage\" title=\"User Suggested Player Age\" totalvotes=\"0\">\\n\\t</poll> \\t\\t\\t      \\t\\t\\t<poll name=\"language_dependence\" title=\"Language Dependence\" totalvotes=\"0\">\\n\\t</poll> \\t\\t\\t      \\t\\t\\t \\t\\t\\t      \\t\\t\\t\\t\\n\\t\\t \\t\\t\\t\\n\\n\\t\\t\\t\\n\\t\\t\\n\\t\\t\\t\\t\\t<link type=\"boardgamecategory\" id=\"1002\" value=\"Card Game\" />\\n\\t\\t\\n\\t\\t\\t\\t\\t\\t\\t\\t\\t\\n\\t\\t\\t\\t\\n\\t\\t \\t\\t\\t\\n\\n\\t\\t\\t\\n\\t\\t\\n\\t\\t\\t\\t\\t<link type=\"boardgamecategory\" id=\"1021\" value=\"Economic\" />\\n\\t\\t\\n\\t\\t\\t\\t\\t\\t\\t\\t\\t\\n\\t\\t\\t\\n\\n\\t\\t\\t      \\t\\t\\t\\t\\n\\t\\t \\t\\t\\t\\n\\n\\t\\t\\t\\n\\t\\t\\n\\t\\t\\t\\t\\t<link type=\"boardgamemechanic\" id=\"2013\" value=\"Commodity Speculation\" />\\n\\t\\t\\n\\t\\t\\t\\t\\t\\t\\t\\t\\t\\n\\t\\t\\t\\t\\n\\t\\t \\t\\t\\t\\n\\n\\t\\t\\t\\n\\t\\t\\n\\t\\t\\t\\t\\t<link type=\"boardgamemechanic\" id=\"2040\" value=\"Hand Management\" />\\n\\t\\t\\n\\t\\t\\t\\t\\t\\t\\t\\t\\t\\n\\t\\t\\t\\n\\n\\t\\t\\t      \\t\\t\\t\\n\\n\\t\\t\\t      \\t\\t\\t\\n\\n\\t\\t\\t      \\t\\t\\t\\n\\n\\t\\t\\t      \\t\\t\\t\\n\\n\\t\\t\\t      \\t\\t\\t\\n\\n\\t\\t\\t      \\t\\t\\t\\n\\n\\t\\t\\t      \\t\\t\\t\\n\\n\\t\\t\\t      \\t\\t\\t\\n\\n\\t\\t\\t      \\t      \\t      \\t\\t\\t\\t\\n\\t\\t \\t\\t\\t\\n\\n\\t\\t\\t\\n\\t\\t\\n\\t\\t\\t\\t\\t<link type=\"boardgamedesigner\" id=\"60\" value=\"Dirk Henn\" />\\n\\t\\t\\n\\t\\t\\t\\t\\t\\t\\t\\t\\t\\n\\t\\t\\t\\n\\n\\t\\t\\t      \\t\\t\\t\\n\\n\\t\\t\\t      \\t      \\t\\t\\t\\t\\n\\t\\t \\t\\t\\t\\n\\n\\t\\t\\t\\n\\t\\t\\n\\t\\t\\t\\t\\t<link type=\"boardgamepublisher\" id=\"100\" value=\"db-Spiele\" />\\n\\t\\t\\n\\t\\t\\t\\t\\t\\t\\t\\t\\t\\n\\t\\t\\t\\n\\n\\t\\t\\t\\n\\t\\n\\n\\t\\n\\n\\t\\n\\t\\n\\t\\n   \\t\\t<statistics page=\"1\">\\n\\t\\t\\t\\t\\t\\t\\t\\t<ratings >\\n\\t\\t\\t<usersrated value=\"45\" />\\n\\t\\t\\t<average value=\"6.20444\" />\\n\\t\\t\\t<bayesaverage value=\"5.52632\" />\\n\\n\\t\\t\\t<ranks>\\n\\t\\t\\t\\t\\t\\t\\t\\t\\t\\t\\t\\t\\t\\t\\t<rank type=\"subtype\" id=\"1\" name=\"boardgame\" friendlyname=\"Board Game Rank\" value=\"11470\" bayesaverage=\"5.52632\" />\\n\\t\\t\\t\\t\\t\\t\\t\\t\\t\\t\\t\\t</ranks>\\n\\n\\t\\t\\t<stddev value=\"1.51481\" />\\n\\t\\t\\t<median value=\"0\" />\\n\\t\\t\\t<owned value=\"75\" />\\n\\t\\t\\t<trading value=\"2\" />\\n\\t\\t\\t<wanting value=\"8\" />\\n\\t\\t\\t<wishing value=\"8\" />\\n\\t\\t\\t<numcomments value=\"14\" />\\n\\t\\t\\t<numweights value=\"4\" />\\n\\t\\t\\t<averageweight value=\"3\" />\\n\\t\\t\\t</ratings>\\n\\t\\t\\t\\t\\t\\t\\t\\t</statistics>\\n     \\n\\t\\n          \\n</item>\\n</items>'"
      ]
     },
     "execution_count": 125,
     "metadata": {},
     "output_type": "execute_result"
    }
   ],
   "source": [
    "# Example result from a request\n",
    "address = 'https://boardgamegeek.com/xmlapi2/thing?id=412&type=boardgame&stats=1'\n",
    "req = requests.get(address)\n",
    "req.content"
   ]
  },
  {
   "cell_type": "markdown",
   "metadata": {},
   "source": [
    "## Play with the data!"
   ]
  },
  {
   "cell_type": "code",
   "execution_count": 62,
   "metadata": {
    "scrolled": false
   },
   "outputs": [
    {
     "data": {
      "text/html": [
       "<div>\n",
       "<style scoped>\n",
       "    .dataframe tbody tr th:only-of-type {\n",
       "        vertical-align: middle;\n",
       "    }\n",
       "\n",
       "    .dataframe tbody tr th {\n",
       "        vertical-align: top;\n",
       "    }\n",
       "\n",
       "    .dataframe thead th {\n",
       "        text-align: right;\n",
       "    }\n",
       "</style>\n",
       "<table border=\"1\" class=\"dataframe\">\n",
       "  <thead>\n",
       "    <tr style=\"text-align: right;\">\n",
       "      <th></th>\n",
       "      <th>id</th>\n",
       "      <th>name</th>\n",
       "      <th>description</th>\n",
       "      <th>ratingscount</th>\n",
       "      <th>avgrating</th>\n",
       "      <th>published</th>\n",
       "      <th>minplayers</th>\n",
       "      <th>maxplayers</th>\n",
       "      <th>best</th>\n",
       "      <th>recommended</th>\n",
       "      <th>not_recommended</th>\n",
       "      <th>playingtime</th>\n",
       "      <th>minplaytime</th>\n",
       "      <th>maxplaytime</th>\n",
       "      <th>minage</th>\n",
       "      <th>suggestedage</th>\n",
       "      <th>language_dependence</th>\n",
       "      <th>designer</th>\n",
       "      <th>publisher</th>\n",
       "    </tr>\n",
       "  </thead>\n",
       "  <tbody>\n",
       "    <tr>\n",
       "      <th>17541</th>\n",
       "      <td>276894</td>\n",
       "      <td>Ticket to Ride: London</td>\n",
       "      <td>Ticket to Ride: London features the familiar g...</td>\n",
       "      <td>228</td>\n",
       "      <td>5.76794</td>\n",
       "      <td>2019</td>\n",
       "      <td>2</td>\n",
       "      <td>4</td>\n",
       "      <td>3.0</td>\n",
       "      <td>2.0</td>\n",
       "      <td>1.0</td>\n",
       "      <td>15</td>\n",
       "      <td>10</td>\n",
       "      <td>15</td>\n",
       "      <td>8</td>\n",
       "      <td>6.0</td>\n",
       "      <td>NaN</td>\n",
       "      <td>-100</td>\n",
       "      <td>-100</td>\n",
       "    </tr>\n",
       "    <tr>\n",
       "      <th>17542</th>\n",
       "      <td>278553</td>\n",
       "      <td>Silver</td>\n",
       "      <td>Your village has been overrun by savage werewo...</td>\n",
       "      <td>111</td>\n",
       "      <td>5.59867</td>\n",
       "      <td>2019</td>\n",
       "      <td>2</td>\n",
       "      <td>4</td>\n",
       "      <td>2.0</td>\n",
       "      <td>4.0</td>\n",
       "      <td>1.0</td>\n",
       "      <td>60</td>\n",
       "      <td>30</td>\n",
       "      <td>60</td>\n",
       "      <td>8</td>\n",
       "      <td>8.0</td>\n",
       "      <td>2.0</td>\n",
       "      <td>-100</td>\n",
       "      <td>-100</td>\n",
       "    </tr>\n",
       "    <tr>\n",
       "      <th>17543</th>\n",
       "      <td>278751</td>\n",
       "      <td>In Front of the Elevators</td>\n",
       "      <td>In Front of the Elevators (&amp;#227;&amp;#130;&amp;#168;&amp;...</td>\n",
       "      <td>78</td>\n",
       "      <td>5.59067</td>\n",
       "      <td>2019</td>\n",
       "      <td>2</td>\n",
       "      <td>4</td>\n",
       "      <td>3.0</td>\n",
       "      <td>2.0</td>\n",
       "      <td>1.0</td>\n",
       "      <td>40</td>\n",
       "      <td>20</td>\n",
       "      <td>40</td>\n",
       "      <td>8</td>\n",
       "      <td>NaN</td>\n",
       "      <td>NaN</td>\n",
       "      <td>-100</td>\n",
       "      <td>-100</td>\n",
       "    </tr>\n",
       "    <tr>\n",
       "      <th>17544</th>\n",
       "      <td>279644</td>\n",
       "      <td>Peloponnesian War</td>\n",
       "      <td>What was old is new again. I am excited to hav...</td>\n",
       "      <td>64</td>\n",
       "      <td>5.62633</td>\n",
       "      <td>2019</td>\n",
       "      <td>1</td>\n",
       "      <td>2</td>\n",
       "      <td>1.0</td>\n",
       "      <td>2.0</td>\n",
       "      <td>3.0</td>\n",
       "      <td>0</td>\n",
       "      <td>0</td>\n",
       "      <td>0</td>\n",
       "      <td>14</td>\n",
       "      <td>16.0</td>\n",
       "      <td>3.0</td>\n",
       "      <td>-100</td>\n",
       "      <td>-100</td>\n",
       "    </tr>\n",
       "    <tr>\n",
       "      <th>17545</th>\n",
       "      <td>280789</td>\n",
       "      <td>Pandemic: Rapid Response</td>\n",
       "      <td>Disaster has struck! Cities around the world a...</td>\n",
       "      <td>337</td>\n",
       "      <td>5.80366</td>\n",
       "      <td>2019</td>\n",
       "      <td>2</td>\n",
       "      <td>4</td>\n",
       "      <td>2.0</td>\n",
       "      <td>3.0</td>\n",
       "      <td>1.0</td>\n",
       "      <td>20</td>\n",
       "      <td>20</td>\n",
       "      <td>20</td>\n",
       "      <td>8</td>\n",
       "      <td>NaN</td>\n",
       "      <td>NaN</td>\n",
       "      <td>-100</td>\n",
       "      <td>-100</td>\n",
       "    </tr>\n",
       "  </tbody>\n",
       "</table>\n",
       "</div>"
      ],
      "text/plain": [
       "           id                       name  \\\n",
       "17541  276894     Ticket to Ride: London   \n",
       "17542  278553                     Silver   \n",
       "17543  278751  In Front of the Elevators   \n",
       "17544  279644          Peloponnesian War   \n",
       "17545  280789   Pandemic: Rapid Response   \n",
       "\n",
       "                                             description  ratingscount  \\\n",
       "17541  Ticket to Ride: London features the familiar g...           228   \n",
       "17542  Your village has been overrun by savage werewo...           111   \n",
       "17543  In Front of the Elevators (&#227;&#130;&#168;&...            78   \n",
       "17544  What was old is new again. I am excited to hav...            64   \n",
       "17545  Disaster has struck! Cities around the world a...           337   \n",
       "\n",
       "       avgrating  published  minplayers  maxplayers  best  recommended  \\\n",
       "17541    5.76794       2019           2           4   3.0          2.0   \n",
       "17542    5.59867       2019           2           4   2.0          4.0   \n",
       "17543    5.59067       2019           2           4   3.0          2.0   \n",
       "17544    5.62633       2019           1           2   1.0          2.0   \n",
       "17545    5.80366       2019           2           4   2.0          3.0   \n",
       "\n",
       "       not_recommended  playingtime  minplaytime  maxplaytime  minage  \\\n",
       "17541              1.0           15           10           15       8   \n",
       "17542              1.0           60           30           60       8   \n",
       "17543              1.0           40           20           40       8   \n",
       "17544              3.0            0            0            0      14   \n",
       "17545              1.0           20           20           20       8   \n",
       "\n",
       "       suggestedage  language_dependence designer publisher  \n",
       "17541           6.0                  NaN     -100      -100  \n",
       "17542           8.0                  2.0     -100      -100  \n",
       "17543           NaN                  NaN     -100      -100  \n",
       "17544          16.0                  3.0     -100      -100  \n",
       "17545           NaN                  NaN     -100      -100  "
      ]
     },
     "execution_count": 62,
     "metadata": {},
     "output_type": "execute_result"
    }
   ],
   "source": [
    "df = pd.read_sql_query(\"SELECT * FROM games\", engine)\n",
    "df.tail()"
   ]
  },
  {
   "cell_type": "code",
   "execution_count": 63,
   "metadata": {},
   "outputs": [
    {
     "data": {
      "text/html": [
       "<div>\n",
       "<style scoped>\n",
       "    .dataframe tbody tr th:only-of-type {\n",
       "        vertical-align: middle;\n",
       "    }\n",
       "\n",
       "    .dataframe tbody tr th {\n",
       "        vertical-align: top;\n",
       "    }\n",
       "\n",
       "    .dataframe thead th {\n",
       "        text-align: right;\n",
       "    }\n",
       "</style>\n",
       "<table border=\"1\" class=\"dataframe\">\n",
       "  <thead>\n",
       "    <tr style=\"text-align: right;\">\n",
       "      <th></th>\n",
       "      <th>id</th>\n",
       "      <th>name</th>\n",
       "      <th>description</th>\n",
       "      <th>ratingscount</th>\n",
       "      <th>avgrating</th>\n",
       "      <th>published</th>\n",
       "      <th>minplayers</th>\n",
       "      <th>maxplayers</th>\n",
       "      <th>best</th>\n",
       "      <th>recommended</th>\n",
       "      <th>not_recommended</th>\n",
       "      <th>playingtime</th>\n",
       "      <th>minplaytime</th>\n",
       "      <th>maxplaytime</th>\n",
       "      <th>minage</th>\n",
       "      <th>suggestedage</th>\n",
       "      <th>language_dependence</th>\n",
       "      <th>designer</th>\n",
       "      <th>publisher</th>\n",
       "    </tr>\n",
       "  </thead>\n",
       "  <tbody>\n",
       "    <tr>\n",
       "      <th>0</th>\n",
       "      <td>1</td>\n",
       "      <td>Die Macher</td>\n",
       "      <td>Die Macher is a game about seven sequential po...</td>\n",
       "      <td>4819</td>\n",
       "      <td>7.17548</td>\n",
       "      <td>1986</td>\n",
       "      <td>3</td>\n",
       "      <td>5</td>\n",
       "      <td>5.0</td>\n",
       "      <td>4.0</td>\n",
       "      <td>2.0</td>\n",
       "      <td>240</td>\n",
       "      <td>240</td>\n",
       "      <td>240</td>\n",
       "      <td>14</td>\n",
       "      <td>14.0</td>\n",
       "      <td>1.0</td>\n",
       "      <td>Karl-Heinz Schmiel</td>\n",
       "      <td>Hans im Glück</td>\n",
       "    </tr>\n",
       "    <tr>\n",
       "      <th>1</th>\n",
       "      <td>2</td>\n",
       "      <td>Dragonmaster</td>\n",
       "      <td>Dragonmaster is a trick-taking card game based...</td>\n",
       "      <td>526</td>\n",
       "      <td>5.81997</td>\n",
       "      <td>1981</td>\n",
       "      <td>3</td>\n",
       "      <td>4</td>\n",
       "      <td>4.0</td>\n",
       "      <td>3.0</td>\n",
       "      <td>1.0</td>\n",
       "      <td>30</td>\n",
       "      <td>30</td>\n",
       "      <td>30</td>\n",
       "      <td>12</td>\n",
       "      <td>2.0</td>\n",
       "      <td>2.0</td>\n",
       "      <td>G. W. \"Jerry\" D'Arcey</td>\n",
       "      <td>E.S. Lowe</td>\n",
       "    </tr>\n",
       "    <tr>\n",
       "      <th>2</th>\n",
       "      <td>3</td>\n",
       "      <td>Samurai</td>\n",
       "      <td>Part of the Knizia tile-laying trilogy, Samura...</td>\n",
       "      <td>13635</td>\n",
       "      <td>7.25468</td>\n",
       "      <td>1998</td>\n",
       "      <td>2</td>\n",
       "      <td>4</td>\n",
       "      <td>3.0</td>\n",
       "      <td>2.0</td>\n",
       "      <td>1.0</td>\n",
       "      <td>60</td>\n",
       "      <td>30</td>\n",
       "      <td>60</td>\n",
       "      <td>10</td>\n",
       "      <td>10.0</td>\n",
       "      <td>1.0</td>\n",
       "      <td>Reiner Knizia</td>\n",
       "      <td>Fantasy Flight Games</td>\n",
       "    </tr>\n",
       "    <tr>\n",
       "      <th>3</th>\n",
       "      <td>4</td>\n",
       "      <td>Tal der Könige</td>\n",
       "      <td>When you see the triangular box and the luxuri...</td>\n",
       "      <td>326</td>\n",
       "      <td>5.71572</td>\n",
       "      <td>1992</td>\n",
       "      <td>2</td>\n",
       "      <td>4</td>\n",
       "      <td>3.0</td>\n",
       "      <td>4.0</td>\n",
       "      <td>1.0</td>\n",
       "      <td>60</td>\n",
       "      <td>60</td>\n",
       "      <td>60</td>\n",
       "      <td>12</td>\n",
       "      <td>12.0</td>\n",
       "      <td>1.0</td>\n",
       "      <td>Christian Beierer</td>\n",
       "      <td>KOSMOS</td>\n",
       "    </tr>\n",
       "    <tr>\n",
       "      <th>4</th>\n",
       "      <td>5</td>\n",
       "      <td>Acquire</td>\n",
       "      <td>In Acquire, each player strategically invests ...</td>\n",
       "      <td>17137</td>\n",
       "      <td>7.18079</td>\n",
       "      <td>1964</td>\n",
       "      <td>2</td>\n",
       "      <td>6</td>\n",
       "      <td>4.0</td>\n",
       "      <td>3.0</td>\n",
       "      <td>2.0</td>\n",
       "      <td>90</td>\n",
       "      <td>90</td>\n",
       "      <td>90</td>\n",
       "      <td>12</td>\n",
       "      <td>12.0</td>\n",
       "      <td>1.0</td>\n",
       "      <td>Sid Sackson</td>\n",
       "      <td>3M</td>\n",
       "    </tr>\n",
       "  </tbody>\n",
       "</table>\n",
       "</div>"
      ],
      "text/plain": [
       "   id            name                                        description  \\\n",
       "0   1      Die Macher  Die Macher is a game about seven sequential po...   \n",
       "1   2    Dragonmaster  Dragonmaster is a trick-taking card game based...   \n",
       "2   3         Samurai  Part of the Knizia tile-laying trilogy, Samura...   \n",
       "3   4  Tal der Könige  When you see the triangular box and the luxuri...   \n",
       "4   5         Acquire  In Acquire, each player strategically invests ...   \n",
       "\n",
       "   ratingscount  avgrating  published  minplayers  maxplayers  best  \\\n",
       "0          4819    7.17548       1986           3           5   5.0   \n",
       "1           526    5.81997       1981           3           4   4.0   \n",
       "2         13635    7.25468       1998           2           4   3.0   \n",
       "3           326    5.71572       1992           2           4   3.0   \n",
       "4         17137    7.18079       1964           2           6   4.0   \n",
       "\n",
       "   recommended  not_recommended  playingtime  minplaytime  maxplaytime  \\\n",
       "0          4.0              2.0          240          240          240   \n",
       "1          3.0              1.0           30           30           30   \n",
       "2          2.0              1.0           60           30           60   \n",
       "3          4.0              1.0           60           60           60   \n",
       "4          3.0              2.0           90           90           90   \n",
       "\n",
       "   minage  suggestedage  language_dependence               designer  \\\n",
       "0      14          14.0                  1.0     Karl-Heinz Schmiel   \n",
       "1      12           2.0                  2.0  G. W. \"Jerry\" D'Arcey   \n",
       "2      10          10.0                  1.0          Reiner Knizia   \n",
       "3      12          12.0                  1.0      Christian Beierer   \n",
       "4      12          12.0                  1.0            Sid Sackson   \n",
       "\n",
       "              publisher  \n",
       "0         Hans im Glück  \n",
       "1             E.S. Lowe  \n",
       "2  Fantasy Flight Games  \n",
       "3                KOSMOS  \n",
       "4                    3M  "
      ]
     },
     "execution_count": 63,
     "metadata": {},
     "output_type": "execute_result"
    }
   ],
   "source": [
    "df.head()"
   ]
  },
  {
   "cell_type": "code",
   "execution_count": 72,
   "metadata": {},
   "outputs": [
    {
     "data": {
      "text/html": [
       "<div>\n",
       "<style scoped>\n",
       "    .dataframe tbody tr th:only-of-type {\n",
       "        vertical-align: middle;\n",
       "    }\n",
       "\n",
       "    .dataframe tbody tr th {\n",
       "        vertical-align: top;\n",
       "    }\n",
       "\n",
       "    .dataframe thead th {\n",
       "        text-align: right;\n",
       "    }\n",
       "</style>\n",
       "<table border=\"1\" class=\"dataframe\">\n",
       "  <thead>\n",
       "    <tr style=\"text-align: right;\">\n",
       "      <th></th>\n",
       "      <th>id</th>\n",
       "      <th>ratingscount</th>\n",
       "      <th>avgrating</th>\n",
       "      <th>published</th>\n",
       "      <th>minplayers</th>\n",
       "      <th>maxplayers</th>\n",
       "      <th>best</th>\n",
       "      <th>recommended</th>\n",
       "      <th>not_recommended</th>\n",
       "      <th>playingtime</th>\n",
       "      <th>minplaytime</th>\n",
       "      <th>maxplaytime</th>\n",
       "      <th>minage</th>\n",
       "      <th>suggestedage</th>\n",
       "      <th>language_dependence</th>\n",
       "    </tr>\n",
       "  </thead>\n",
       "  <tbody>\n",
       "    <tr>\n",
       "      <th>count</th>\n",
       "      <td>17546.000000</td>\n",
       "      <td>17546.000000</td>\n",
       "      <td>17546.000000</td>\n",
       "      <td>17546.000000</td>\n",
       "      <td>17546.000000</td>\n",
       "      <td>17546.000000</td>\n",
       "      <td>14960.000000</td>\n",
       "      <td>14960.000000</td>\n",
       "      <td>14960.000000</td>\n",
       "      <td>17546.000000</td>\n",
       "      <td>17546.000000</td>\n",
       "      <td>17546.000000</td>\n",
       "      <td>17546.000000</td>\n",
       "      <td>12595.000000</td>\n",
       "      <td>12264.000000</td>\n",
       "    </tr>\n",
       "    <tr>\n",
       "      <th>mean</th>\n",
       "      <td>87049.953608</td>\n",
       "      <td>780.006155</td>\n",
       "      <td>5.611054</td>\n",
       "      <td>1983.349025</td>\n",
       "      <td>2.043144</td>\n",
       "      <td>5.558703</td>\n",
       "      <td>3.163837</td>\n",
       "      <td>2.497660</td>\n",
       "      <td>1.820989</td>\n",
       "      <td>96.592158</td>\n",
       "      <td>69.603442</td>\n",
       "      <td>96.592158</td>\n",
       "      <td>9.515160</td>\n",
       "      <td>9.537356</td>\n",
       "      <td>2.049821</td>\n",
       "    </tr>\n",
       "    <tr>\n",
       "      <th>std</th>\n",
       "      <td>85452.341274</td>\n",
       "      <td>3114.644254</td>\n",
       "      <td>0.796225</td>\n",
       "      <td>209.846419</td>\n",
       "      <td>0.678806</td>\n",
       "      <td>15.685383</td>\n",
       "      <td>1.474734</td>\n",
       "      <td>1.367836</td>\n",
       "      <td>1.701004</td>\n",
       "      <td>1069.661762</td>\n",
       "      <td>497.499859</td>\n",
       "      <td>1069.661762</td>\n",
       "      <td>3.668684</td>\n",
       "      <td>3.219822</td>\n",
       "      <td>1.223148</td>\n",
       "    </tr>\n",
       "    <tr>\n",
       "      <th>min</th>\n",
       "      <td>1.000000</td>\n",
       "      <td>0.000000</td>\n",
       "      <td>0.000000</td>\n",
       "      <td>-3500.000000</td>\n",
       "      <td>0.000000</td>\n",
       "      <td>0.000000</td>\n",
       "      <td>1.000000</td>\n",
       "      <td>1.000000</td>\n",
       "      <td>1.000000</td>\n",
       "      <td>0.000000</td>\n",
       "      <td>0.000000</td>\n",
       "      <td>0.000000</td>\n",
       "      <td>0.000000</td>\n",
       "      <td>2.000000</td>\n",
       "      <td>1.000000</td>\n",
       "    </tr>\n",
       "    <tr>\n",
       "      <th>25%</th>\n",
       "      <td>8045.250000</td>\n",
       "      <td>54.000000</td>\n",
       "      <td>5.509540</td>\n",
       "      <td>1998.000000</td>\n",
       "      <td>2.000000</td>\n",
       "      <td>4.000000</td>\n",
       "      <td>2.000000</td>\n",
       "      <td>1.000000</td>\n",
       "      <td>1.000000</td>\n",
       "      <td>30.000000</td>\n",
       "      <td>20.000000</td>\n",
       "      <td>30.000000</td>\n",
       "      <td>8.000000</td>\n",
       "      <td>8.000000</td>\n",
       "      <td>1.000000</td>\n",
       "    </tr>\n",
       "    <tr>\n",
       "      <th>50%</th>\n",
       "      <td>41762.500000</td>\n",
       "      <td>117.000000</td>\n",
       "      <td>5.553890</td>\n",
       "      <td>2009.000000</td>\n",
       "      <td>2.000000</td>\n",
       "      <td>4.000000</td>\n",
       "      <td>3.000000</td>\n",
       "      <td>2.000000</td>\n",
       "      <td>1.000000</td>\n",
       "      <td>45.000000</td>\n",
       "      <td>30.000000</td>\n",
       "      <td>45.000000</td>\n",
       "      <td>10.000000</td>\n",
       "      <td>10.000000</td>\n",
       "      <td>2.000000</td>\n",
       "    </tr>\n",
       "    <tr>\n",
       "      <th>75%</th>\n",
       "      <td>164560.000000</td>\n",
       "      <td>371.000000</td>\n",
       "      <td>5.698498</td>\n",
       "      <td>2015.000000</td>\n",
       "      <td>2.000000</td>\n",
       "      <td>6.000000</td>\n",
       "      <td>4.000000</td>\n",
       "      <td>3.000000</td>\n",
       "      <td>2.000000</td>\n",
       "      <td>90.000000</td>\n",
       "      <td>60.000000</td>\n",
       "      <td>90.000000</td>\n",
       "      <td>12.000000</td>\n",
       "      <td>12.000000</td>\n",
       "      <td>3.000000</td>\n",
       "    </tr>\n",
       "    <tr>\n",
       "      <th>max</th>\n",
       "      <td>280789.000000</td>\n",
       "      <td>86869.000000</td>\n",
       "      <td>8.599020</td>\n",
       "      <td>2020.000000</td>\n",
       "      <td>10.000000</td>\n",
       "      <td>999.000000</td>\n",
       "      <td>31.000000</td>\n",
       "      <td>22.000000</td>\n",
       "      <td>31.000000</td>\n",
       "      <td>120000.000000</td>\n",
       "      <td>60000.000000</td>\n",
       "      <td>120000.000000</td>\n",
       "      <td>25.000000</td>\n",
       "      <td>22.000000</td>\n",
       "      <td>5.000000</td>\n",
       "    </tr>\n",
       "  </tbody>\n",
       "</table>\n",
       "</div>"
      ],
      "text/plain": [
       "                  id  ratingscount     avgrating     published    minplayers  \\\n",
       "count   17546.000000  17546.000000  17546.000000  17546.000000  17546.000000   \n",
       "mean    87049.953608    780.006155      5.611054   1983.349025      2.043144   \n",
       "std     85452.341274   3114.644254      0.796225    209.846419      0.678806   \n",
       "min         1.000000      0.000000      0.000000  -3500.000000      0.000000   \n",
       "25%      8045.250000     54.000000      5.509540   1998.000000      2.000000   \n",
       "50%     41762.500000    117.000000      5.553890   2009.000000      2.000000   \n",
       "75%    164560.000000    371.000000      5.698498   2015.000000      2.000000   \n",
       "max    280789.000000  86869.000000      8.599020   2020.000000     10.000000   \n",
       "\n",
       "         maxplayers          best   recommended  not_recommended  \\\n",
       "count  17546.000000  14960.000000  14960.000000     14960.000000   \n",
       "mean       5.558703      3.163837      2.497660         1.820989   \n",
       "std       15.685383      1.474734      1.367836         1.701004   \n",
       "min        0.000000      1.000000      1.000000         1.000000   \n",
       "25%        4.000000      2.000000      1.000000         1.000000   \n",
       "50%        4.000000      3.000000      2.000000         1.000000   \n",
       "75%        6.000000      4.000000      3.000000         2.000000   \n",
       "max      999.000000     31.000000     22.000000        31.000000   \n",
       "\n",
       "         playingtime   minplaytime    maxplaytime        minage  suggestedage  \\\n",
       "count   17546.000000  17546.000000   17546.000000  17546.000000  12595.000000   \n",
       "mean       96.592158     69.603442      96.592158      9.515160      9.537356   \n",
       "std      1069.661762    497.499859    1069.661762      3.668684      3.219822   \n",
       "min         0.000000      0.000000       0.000000      0.000000      2.000000   \n",
       "25%        30.000000     20.000000      30.000000      8.000000      8.000000   \n",
       "50%        45.000000     30.000000      45.000000     10.000000     10.000000   \n",
       "75%        90.000000     60.000000      90.000000     12.000000     12.000000   \n",
       "max    120000.000000  60000.000000  120000.000000     25.000000     22.000000   \n",
       "\n",
       "       language_dependence  \n",
       "count         12264.000000  \n",
       "mean              2.049821  \n",
       "std               1.223148  \n",
       "min               1.000000  \n",
       "25%               1.000000  \n",
       "50%               2.000000  \n",
       "75%               3.000000  \n",
       "max               5.000000  "
      ]
     },
     "execution_count": 72,
     "metadata": {},
     "output_type": "execute_result"
    }
   ],
   "source": [
    "df.describe()"
   ]
  },
  {
   "cell_type": "code",
   "execution_count": 77,
   "metadata": {},
   "outputs": [
    {
     "data": {
      "text/html": [
       "<div>\n",
       "<style scoped>\n",
       "    .dataframe tbody tr th:only-of-type {\n",
       "        vertical-align: middle;\n",
       "    }\n",
       "\n",
       "    .dataframe tbody tr th {\n",
       "        vertical-align: top;\n",
       "    }\n",
       "\n",
       "    .dataframe thead th {\n",
       "        text-align: right;\n",
       "    }\n",
       "</style>\n",
       "<table border=\"1\" class=\"dataframe\">\n",
       "  <thead>\n",
       "    <tr style=\"text-align: right;\">\n",
       "      <th></th>\n",
       "      <th>id</th>\n",
       "      <th>name</th>\n",
       "      <th>description</th>\n",
       "      <th>ratingscount</th>\n",
       "      <th>avgrating</th>\n",
       "      <th>published</th>\n",
       "      <th>minplayers</th>\n",
       "      <th>maxplayers</th>\n",
       "      <th>best</th>\n",
       "      <th>recommended</th>\n",
       "      <th>not_recommended</th>\n",
       "      <th>playingtime</th>\n",
       "      <th>minplaytime</th>\n",
       "      <th>maxplaytime</th>\n",
       "      <th>minage</th>\n",
       "      <th>suggestedage</th>\n",
       "      <th>language_dependence</th>\n",
       "      <th>designer</th>\n",
       "      <th>publisher</th>\n",
       "    </tr>\n",
       "  </thead>\n",
       "  <tbody>\n",
       "    <tr>\n",
       "      <th>8889</th>\n",
       "      <td>43231</td>\n",
       "      <td>Balance of Power</td>\n",
       "      <td>Game description from the publisher:&amp;#10;&amp;#10;...</td>\n",
       "      <td>106</td>\n",
       "      <td>5.49107</td>\n",
       "      <td>2012</td>\n",
       "      <td>2</td>\n",
       "      <td>6</td>\n",
       "      <td>6.0</td>\n",
       "      <td>5.0</td>\n",
       "      <td>1.0</td>\n",
       "      <td>120</td>\n",
       "      <td>120</td>\n",
       "      <td>120</td>\n",
       "      <td>13</td>\n",
       "      <td>10.0</td>\n",
       "      <td>1.0</td>\n",
       "      <td>-100</td>\n",
       "      <td>-100</td>\n",
       "    </tr>\n",
       "  </tbody>\n",
       "</table>\n",
       "</div>"
      ],
      "text/plain": [
       "         id              name  \\\n",
       "8889  43231  Balance of Power   \n",
       "\n",
       "                                            description  ratingscount  \\\n",
       "8889  Game description from the publisher:&#10;&#10;...           106   \n",
       "\n",
       "      avgrating  published  minplayers  maxplayers  best  recommended  \\\n",
       "8889    5.49107       2012           2           6   6.0          5.0   \n",
       "\n",
       "      not_recommended  playingtime  minplaytime  maxplaytime  minage  \\\n",
       "8889              1.0          120          120          120      13   \n",
       "\n",
       "      suggestedage  language_dependence designer publisher  \n",
       "8889          10.0                  1.0     -100      -100  "
      ]
     },
     "execution_count": 77,
     "metadata": {},
     "output_type": "execute_result"
    }
   ],
   "source": [
    "df.query('id==43231')"
   ]
  },
  {
   "cell_type": "code",
   "execution_count": 95,
   "metadata": {},
   "outputs": [
    {
     "data": {
      "text/plain": [
       "'Translated as Cutpurse, this is a fairly unique entry in the trick-taking genre.  Three of the suits are relatively normal, however, the cards that are worth points, in the form of gold coins, have the least value.  The special thing about this game is the trump suit, which could have the Assassin killing the King or the Adventurer seducing the Countess; the character interaction is very interesting aspect.&#10;&#10;'"
      ]
     },
     "execution_count": 95,
     "metadata": {},
     "output_type": "execute_result"
    }
   ],
   "source": [
    "df.query('name == \"Beutelschneider\"')['description'].iloc[0]"
   ]
  },
  {
   "cell_type": "code",
   "execution_count": null,
   "metadata": {},
   "outputs": [],
   "source": []
  }
 ],
 "metadata": {
  "kernelspec": {
   "display_name": "Python 3",
   "language": "python",
   "name": "python3"
  },
  "language_info": {
   "codemirror_mode": {
    "name": "ipython",
    "version": 3
   },
   "file_extension": ".py",
   "mimetype": "text/x-python",
   "name": "python",
   "nbconvert_exporter": "python",
   "pygments_lexer": "ipython3",
   "version": "3.7.3"
  }
 },
 "nbformat": 4,
 "nbformat_minor": 2
}
