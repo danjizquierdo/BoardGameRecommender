{
 "cells": [
  {
   "cell_type": "code",
   "execution_count": 1,
   "metadata": {},
   "outputs": [
    {
     "name": "stderr",
     "output_type": "stream",
     "text": [
      "//anaconda3/lib/python3.7/site-packages/sklearn/base.py:306: UserWarning: Trying to unpickle estimator NearestNeighbors from version 0.20.2 when using version 0.21.2. This might lead to breaking code or invalid results. Use at your own risk.\n",
      "  UserWarning)\n"
     ]
    }
   ],
   "source": [
    "from sqlalchemy import create_engine\n",
    "import numpy as np\n",
    "import pandas as pd\n",
    "import pickle\n",
    "import json\n",
    "\n",
    "from sklearn.preprocessing import MinMaxScaler, RobustScaler\n",
    "from sklearn.neighbors import NearestNeighbors\n",
    "\n",
    "# Load data\n",
    "eng = create_engine('sqlite:///data/boardgames.db', echo=False)\n",
    "nn = pickle.load(open('0827test.p', 'rb'))\n",
    "raw = pd.read_sql_query(\"SELECT * FROM boardgames\", eng).drop(['index', 'designer', 'publisher'], axis=1)"
   ]
  },
  {
   "cell_type": "code",
   "execution_count": 125,
   "metadata": {},
   "outputs": [
    {
     "data": {
      "text/plain": [
       "count    17575.000000\n",
       "mean         0.652484\n",
       "std          0.092524\n",
       "min          0.000000\n",
       "25%          0.640695\n",
       "50%          0.645855\n",
       "75%          0.662628\n",
       "max          1.000000\n",
       "Name: avgrating, dtype: float64"
      ]
     },
     "execution_count": 125,
     "metadata": {},
     "output_type": "execute_result"
    }
   ],
   "source": [
    "processed.avgrating.describe()"
   ]
  },
  {
   "cell_type": "code",
   "execution_count": 126,
   "metadata": {},
   "outputs": [
    {
     "data": {
      "text/plain": [
       "Index(['Take That', 'Card Drafting', 'Simultaneous Action Selection',\n",
       "       'Trick-taking', 'Pick-up and Deliver', 'Press Your Luck',\n",
       "       'Player Elimination', 'Pattern Recognition', 'Modular Board',\n",
       "       'Roll / Spin and Move', 'Tile Placement', 'Simulation',\n",
       "       'Hand Management', 'Partnerships', 'Trading', 'Role Playing',\n",
       "       'Set Collection', 'Route/Network Building', 'Area Movement', 'Memory',\n",
       "       'Secret Unit Deployment', 'Action / Movement Programming',\n",
       "       'Variable Phase Order', 'Action Point Allowance System',\n",
       "       'Point to Point Movement', 'Campaign / Battle Card Driven',\n",
       "       'Betting/Wagering', 'Stock Holding', 'Area Control / Area Influence',\n",
       "       'Commodity Speculation', 'Cooperative Play', 'Dice Rolling',\n",
       "       'Auction/Bidding', 'Area Enclosure', 'Grid Movement', 'Hex-and-Counter',\n",
       "       'Rock-Paper-Scissors', 'Crayon Rail System', 'Variable Player Powers',\n",
       "       'Pattern Building', 'Voting', 'Territory Building',\n",
       "       'American Civil War', 'Card Game', 'Animals', 'Abstract Strategy',\n",
       "       'Children's Game', 'Trivia', 'Mythology', 'City Building', 'Deduction',\n",
       "       'Movies / TV / Radio theme', 'Farming', 'Electronic', 'Word Game',\n",
       "       'Science Fiction', 'Transportation', 'Renaissance',\n",
       "       'Collectible Components', 'Trains', 'Economic', 'Napoleonic',\n",
       "       'Space Exploration', 'Party Game', 'Industry / Manufacturing',\n",
       "       'Ancient', 'Miniatures', 'Nautical', 'Wargame', 'Medieval',\n",
       "       'Aviation / Flight', 'World War II', 'Murder/Mystery', 'Bluffing',\n",
       "       'World War I', 'Prehistoric', 'Fighting', 'American West', 'Pirates',\n",
       "       'Political', 'Civilization', 'Negotiation', 'Maze', 'Travel', 'Horror',\n",
       "       'Adventure', 'Puzzle', 'Novel-based', 'Humor', 'Real-time', 'Racing',\n",
       "       'Fantasy', 'Print & Play', 'Exploration', 'Dice'],\n",
       "      dtype='object')"
      ]
     },
     "execution_count": 126,
     "metadata": {},
     "output_type": "execute_result"
    }
   ],
   "source": [
    "processed.columns[17:]"
   ]
  },
  {
   "cell_type": "code",
   "execution_count": 118,
   "metadata": {},
   "outputs": [],
   "source": [
    "def preprocess(df):\n",
    "    # Perform scaling and grab relevant features\n",
    "    relevant = ['id', 'name', 'ratingscount', 'avgrating', 'published',\n",
    "       'minplayers', 'maxplayers', 'best', 'recommended', 'not_recommended',\n",
    "       'playingtime', 'minplaytime', 'maxplaytime', 'minage', 'suggestedage',\n",
    "       'language_dependence']\n",
    "\n",
    "    outliers = ['published','best','maxplayers','maxplaytime','minplaytime','not_recommended','playingtime','ratingscount','recommended']\n",
    "    normal = ['language_dependence','minage','minplayers','suggestedage','avgrating']\n",
    "\n",
    "    df[relevant] = df[relevant].apply(lambda x: x.fillna(x.median()) if x.dtype != np.dtype('O') else x,axis=0)\n",
    "\n",
    "    robust = RobustScaler()\n",
    "    df[outliers] = robust.fit_transform(df[outliers])\n",
    "    minmax = MinMaxScaler()\n",
    "    df[normal] = minmax.fit_transform(df[normal])\n",
    "\n",
    "    return df"
   ]
  },
  {
   "cell_type": "code",
   "execution_count": 150,
   "metadata": {},
   "outputs": [
    {
     "data": {
      "text/plain": [
       "count    17575.000000\n",
       "mean         0.652484\n",
       "std          0.092524\n",
       "min          0.000000\n",
       "25%          0.640695\n",
       "50%          0.645855\n",
       "75%          0.662628\n",
       "max          1.000000\n",
       "Name: avgrating, dtype: float64"
      ]
     },
     "execution_count": 150,
     "metadata": {},
     "output_type": "execute_result"
    }
   ],
   "source": [
    "processed.avgrating.describe()"
   ]
  },
  {
   "cell_type": "code",
   "execution_count": 4,
   "metadata": {},
   "outputs": [],
   "source": [
    "def dropcols(df):\n",
    "    # Return only relevant features for KNN\n",
    "    to_drop = ['id', 'name', 'description', 'avgrating']\n",
    "    return df.drop(to_drop, axis=1)"
   ]
  },
  {
   "cell_type": "code",
   "execution_count": 5,
   "metadata": {},
   "outputs": [],
   "source": [
    "def get_test_array(names):\n",
    "    # Aggregate data for list of names to seed recommendation\n",
    "    inputs = dropcols(processed[processed['name'].isin(names)])\n",
    "    return inputs.mean().values.reshape(1, -1)"
   ]
  },
  {
   "cell_type": "code",
   "execution_count": 305,
   "metadata": {},
   "outputs": [],
   "source": [
    "def get_nearest(names, mechanics, n=20):\n",
    "    # Grab info for given games\n",
    "    if names:\n",
    "        input_array = get_test_array(names)\n",
    "        # Find the nearest neighbors\n",
    "        dists, neighbors = nn.kneighbors(input_array, n+len(names))\n",
    "        dists = dists.tolist()[0]\n",
    "        neighbors = neighbors.tolist()[0]\n",
    "        neighborhood = pd.DataFrame(np.array([dists,neighbors]).T,columns=['distance','id'])\n",
    "        # Scale distances by inverse of avgrating\n",
    "        weights = processed.query('id == @neighbors')[['id','avgrating']]\n",
    "        if mechanics:\n",
    "            # Prefer games with matching mechanics\n",
    "            mech_games = filter_mechanics(mechanics)\n",
    "            weights.apply(lambda x: x['avgrating']*10 if x['id'] in mech_games else x['avgrating'],axis=1)\n",
    "        # Sort results by new scaled distance\n",
    "        neighborhood['distance']= pd.merge(neighborhood,weights,on='id').apply(lambda x: x['distance']/(x['avgrating']+.01),axis=1)\n",
    "        neighborhood.sort_values('distance',inplace=True)\n",
    "        # Return results not in the given names\n",
    "        return list(filter(lambda g: g['name'] not in names, [game_json[int(game_id)] for game_id in list(neighborhood['id'])]))[:5]\n",
    "    elif mechanics:\n",
    "        # Filters games based on given mechanics\n",
    "        mech_games = filter_mechanics(mechanics)\n",
    "        # Finds top 3 rated games with those mechanics\n",
    "        best_mech = processed.query('id == @mech_games').sort_values('avgrating', ascending=False)['id'].head(3).values\n",
    "        return list(filter(lambda g: g['id'] in best_mech, game_json))"
   ]
  },
  {
   "cell_type": "code",
   "execution_count": null,
   "metadata": {},
   "outputs": [],
   "source": [
    "game_json"
   ]
  },
  {
   "cell_type": "code",
   "execution_count": null,
   "metadata": {},
   "outputs": [],
   "source": []
  },
  {
   "cell_type": "code",
   "execution_count": 306,
   "metadata": {
    "scrolled": true
   },
   "outputs": [
    {
     "name": "stdout",
     "output_type": "stream",
     "text": [
      "[ 84876 171623  73439]\n"
     ]
    },
    {
     "data": {
      "text/plain": [
       "[{'id': 73439,\n",
       "  'language_dependence': 1,\n",
       "  'best': 3,\n",
       "  'name': 'Troyes',\n",
       "  'designer': None,\n",
       "  'recommended': 2,\n",
       "  'description': \"In Troyes, recreate four centuries of history of this famous city of the Champagne region of France.  Each player manages their segment of the population (represented by a horde of dice) and their hand of cards, which represent the three primary domains of the city:  religious, military, and civil.  Players can also offer cash to their opponents' populace in order to get a little moonlighting out of them&mdash;anything for more fame!&#10;&#10;Make your underlings:&#10;&#10;     work on the cathedral&#10;     combat misfortune&#10;     bustle about the city&#10;     and other such tasks that are below your family's stature&#10;&#10;&#10;&#10;&#10;Many editions of Troyes released in 2016 or later include bonus cards originally released on their own, so they have a separate listing in the BGG database.&#10;&#10;\",\n",
       "  'publisher': None,\n",
       "  'not_recommended': 1,\n",
       "  'ratingscount': 15504,\n",
       "  'image': None,\n",
       "  'playingtime': 90,\n",
       "  'avgrating': 7.57698,\n",
       "  'minplaytime': 90,\n",
       "  'published': 2010,\n",
       "  'maxplaytime': 90,\n",
       "  'minplayers': 2,\n",
       "  'minage': 12,\n",
       "  'maxplayers': 4,\n",
       "  'suggestedage': 12,\n",
       "  'mechanics': ['Area Control / Area Influence', 'Dice Rolling'],\n",
       "  'categories': ['Economic', 'Medieval', 'Dice'],\n",
       "  'artists': []},\n",
       " {'id': 84876,\n",
       "  'language_dependence': 1,\n",
       "  'best': 2,\n",
       "  'name': 'The Castles of Burgundy',\n",
       "  'designer': None,\n",
       "  'recommended': 3,\n",
       "  'description': 'The game is set in the Burgundy region of High Medieval France. Each player takes on the role of an aristocrat, originally controlling a small princedom. While playing they aim to build settlements and powerful castles, practice trade along the river, exploit silver mines, and use the knowledge of travelers.&#10;&#10;The game is about players taking settlement tiles from the game board and placing them into their princedom which is represented by the player board. Every tile has a function that starts when the tile is placed in the princedom. The princedom itself consists of several regions, each of which demands its own type of settlement tile.&#10;&#10;The game is played in five phases, each consisting of five rounds.  Each phase begins with the game board stocked with settlement tiles and goods tiles.  At the beginning of each round all players roll their two dice, and the player who is currently first in turn order rolls a goods placement die.  A goods tile is made available on the game board according to the roll of the goods die.  During each round players take their turns in the current turn order.  During his turn, a player may perform any two of the four possible types of actions: 1) take a settlement tile from the numbered depot on the game board corresponding to one of his dice and place it in the staging area on his player board, 2) take a settlement tile from the staging area of his player board to a space on his player board with a number matching one of his dice in the corresponding region for the type of tile and adjacent to a previously placed settlement tile, 3) deliver goods with a number matching one of his dice, or 4) take worker tokens which allow the player to adjust the roll of his dice.  In addition to these actions a player may buy a settlement tile from the central depot on the game board and place it in the staging area on his player board.  If an action triggers the award of victory points, those points are immediately recorded.  Each settlement tile offers a benefit, additional actions, additional money, advancement on the turn order track, more goods tiles, die roll adjustment or victory points.  Bonus victory points are awarded for filling a region with settlement tiles.&#10;&#10;The game ends when the last player finishes his turn of the fifth round of the fifth phase.  Victory points are awarded for unused money and workers, and undelivered goods.  Bonus victory points from certain settlement tiles are awarded at the end of the game.&#10;&#10;The player with the most victory points wins.&#10;&#10;The rules include basic and advanced versions.&#10;&#10;This game is #14 in the Alea big box series.&#10;&#10;',\n",
       "  'publisher': None,\n",
       "  'not_recommended': 1,\n",
       "  'ratingscount': 37920,\n",
       "  'image': None,\n",
       "  'playingtime': 90,\n",
       "  'avgrating': 8.0106,\n",
       "  'minplaytime': 30,\n",
       "  'published': 2011,\n",
       "  'maxplaytime': 90,\n",
       "  'minplayers': 2,\n",
       "  'minage': 12,\n",
       "  'maxplayers': 4,\n",
       "  'suggestedage': 12,\n",
       "  'mechanics': ['Dice Rolling', 'Set Collection', 'Tile Placement'],\n",
       "  'categories': ['Medieval', 'Dice', 'Territory Building'],\n",
       "  'artists': ['Harald Lieske']},\n",
       " {'id': 171623,\n",
       "  'language_dependence': 1,\n",
       "  'best': 4,\n",
       "  'name': 'The Voyages of Marco Polo',\n",
       "  'designer': None,\n",
       "  'recommended': 2,\n",
       "  'description': 'In 1271, 17-year-old Marco Polo started on a journey to China with his father and older brother. After a long and grueling journey that led through Jerusalem and Mesopotamia and over the &quot;Silk Road&quot;, they reached the court of Kublai Khan in 1275.&#10;&#10;In The Voyages of Marco Polo, players recreate this journey, with each player having a different character and special power in the game. The game is played over five rounds. Each round, the players roll their five personal dice and can perform one action each turn with them. The five main actions are shown on the bottom part of the board:&#10;&#10;&#10;    Get resources with 1-3 dice, depending on the value of the resource (camels, pepper, silk, gold). The first player for each resource gets them for free; the later ones have to pay according to the value shown on the dice.&#10;&#10;&#10;&#10;    Take one resource of your choice and two camels. Each player sets the minimum value for the future dice.&#10;&#10;&#10;&#10;    Earn money, with any one die netting you five money.&#10;&#10;&#10;&#10;    Purchase orders: The value of one die unlocks the orders up to that number (shown on the spaces) and allows you to buy one or two of those orders. Orders are refreshed and placed at the beginning of each round. To fulfill an order, players have to spend resources for victory points, other resources, camels, and more.&#10;&#10;&#10;&#10;    Travel: Two dice are placed to unlock the distance that can be traveled on the upper part of the board, that is, the map. Here, the traveler piece of each player starts at Venice and can decide between several routes eastward, all the way to Beijing. When a traveler stops at a city, they place a marker there, giving them access to a different additional action for the rest of the game.&#10;&#10;&#10;After five rounds, the game ends with players receiving victory points for arriving in Beijing, fulfilling the most orders, and having reached the cities on secret city cards that each player gets at the start of the game; these points are added to the VPs gained during the game.&#10;&#10;Auf den Spuren von Marco Polo should not be confused with Marco Polo Expedition, which had the same German title.&#10;&#10;',\n",
       "  'publisher': None,\n",
       "  'not_recommended': 1,\n",
       "  'ratingscount': 16082,\n",
       "  'image': None,\n",
       "  'playingtime': 100,\n",
       "  'avgrating': 7.73134,\n",
       "  'minplaytime': 40,\n",
       "  'published': 2015,\n",
       "  'maxplaytime': 100,\n",
       "  'minplayers': 2,\n",
       "  'minage': 12,\n",
       "  'maxplayers': 4,\n",
       "  'suggestedage': 12,\n",
       "  'mechanics': ['Dice Rolling',\n",
       "   'Set Collection',\n",
       "   'Card Drafting',\n",
       "   'Point to Point Movement',\n",
       "   'Variable Player Powers'],\n",
       "  'categories': ['Economic', 'Medieval', 'Travel', 'Dice'],\n",
       "  'artists': []}]"
      ]
     },
     "execution_count": 306,
     "metadata": {},
     "output_type": "execute_result"
    }
   ],
   "source": [
    "get_nearest([],['Dice'])"
   ]
  },
  {
   "cell_type": "code",
   "execution_count": 273,
   "metadata": {
    "scrolled": false
   },
   "outputs": [
    {
     "name": "stdout",
     "output_type": "stream",
     "text": [
      "      distance       id\n",
      "0    40.789907   8226.0\n",
      "4    62.214918   2356.0\n",
      "1    62.756017   9523.0\n",
      "3    80.718074   7777.0\n",
      "2    80.889597   4797.0\n",
      "5    93.465330   8689.0\n",
      "6    97.861143   7726.0\n",
      "8   106.996586     12.0\n",
      "7   119.403417    709.0\n",
      "9   124.370326  14026.0\n",
      "10  135.864952   2110.0\n",
      "11         NaN   9577.0\n",
      "12         NaN   5894.0\n",
      "13         NaN  11325.0\n",
      "14         NaN  12283.0\n",
      "15         NaN    415.0\n",
      "16         NaN  13707.0\n",
      "17         NaN   8601.0\n",
      "18         NaN  13464.0\n",
      "19         NaN  13365.0\n",
      "20         NaN   7528.0\n",
      "21         NaN  10658.0\n"
     ]
    },
    {
     "data": {
      "text/plain": [
       "[{'id': 36218,\n",
       "  'language_dependence': 3,\n",
       "  'best': 3,\n",
       "  'name': 'Dominion',\n",
       "  'designer': None,\n",
       "  'recommended': 2,\n",
       "  'description': \"(from the back of the box:)&#10;&#10;&quot;You are a monarch, like your parents before you, a ruler of a small pleasant kingdom of rivers and evergreens. Unlike your parents, however, you have hopes and dreams! You want a bigger and more pleasant kingdom, with more rivers and a wider variety of trees. You want a Dominion! In all directions lie fiefs, freeholds, and feodums. All are small bits of land, controlled by petty lords and verging on anarchy. You will bring civilization to these people, uniting them under your banner.&#10;&#10;But wait! It must be something in the air; several other monarchs have had the exact same idea. You must race to get as much of the unclaimed land as possible, fending them off along the way. To do this you will hire minions, construct buildings, spruce up your castle, and fill the coffers of your treasury. Your parents wouldn't be proud, but your grandparents, on your mother's side, would be delighted.&quot;&#10;&#10;&#10;In Dominion, each player starts with an identical, very small deck of cards.  In the center of the table is a selection of other cards the players can &quot;buy&quot; as they can afford them.  Through their selection of cards to buy, and how they play their hands as they draw them, the players construct their deck on the fly, striving for the most efficient path to the precious victory points by game end.&#10;&#10;Dominion is not a CCG, but the play of the game is similar to the construction and play of a CCG deck. The game comes with 500 cards. You select 10 of the 25 Kingdom card types to include in any given play&mdash;leading to immense variety.&#10;&#10;&#10;Part of the Dominion series.&#10;&#10;Integrates with:&#10;&#10;    Dominion: Intrigue&#10;&#10;&#10;&#10;&#10;\",\n",
       "  'publisher': None,\n",
       "  'not_recommended': 1,\n",
       "  'ratingscount': 69305,\n",
       "  'image': None,\n",
       "  'playingtime': 30,\n",
       "  'avgrating': 7.53949,\n",
       "  'minplaytime': 30,\n",
       "  'published': 2008,\n",
       "  'maxplaytime': 30,\n",
       "  'minplayers': 2,\n",
       "  'minage': 13,\n",
       "  'maxplayers': 4,\n",
       "  'suggestedage': 10,\n",
       "  'mechanics': ['Hand Management', 'Card Drafting'],\n",
       "  'categories': ['Card Game', 'Medieval'],\n",
       "  'artists': ['Harald Lieske',\n",
       "   'Michael Menzel',\n",
       "   'Claus Stephan',\n",
       "   'Tomasz Jedruszek',\n",
       "   'Marcel-André Casasola Merkle',\n",
       "   'Christof Tisch']},\n",
       " {'id': 3076,\n",
       "  'language_dependence': 3,\n",
       "  'best': 4,\n",
       "  'name': 'Puerto Rico',\n",
       "  'designer': None,\n",
       "  'recommended': 3,\n",
       "  'description': \"In Puerto Rico players assume the roles of colonial governors on the island of Puerto Rico. The aim of the game is to amass victory points by shipping goods to Europe or by constructing buildings.&#10;&#10;Each player uses a separate small board with spaces for city buildings, plantations, and resources. Shared between the players are three ships, a trading house, and a supply of resources and doubloons.&#10;&#10;The resource cycle of the game is that players grow crops which they exchange for points or doubloons. Doubloons can then be used to buy buildings, which allow players to produce more crops or give them other abilities. Buildings and plantations do not work unless they are manned by colonists.&#10;&#10;During each round, players take turns selecting a role card from those on the table (such as &quot;Trader&quot; or &quot;Builder&quot;). When a role is chosen, every player gets to take the action appropriate to that role. The player that selected the role also receives a small privilege for doing so - for example, choosing the &quot;Builder&quot; role allows all players to construct a building, but the player who chose the role may do so at a discount on that turn. Unused roles gain a doubloon bonus at the end of each turn, so the next player who chooses that role gets to keep any doubloon bonus associated with it. This encourages players to make use of all the roles throughout a typical course of a game.&#10;&#10;Puerto Rico uses a variable phase order mechanic, where a &quot;governor&quot; token is passed clockwise to the next player at the conclusion of a turn. The player with the token begins the round by choosing a role and taking the first action.&#10;&#10;Players earn victory points for owning buildings, for shipping goods, and for manned &quot;large buildings.&quot; Each player's accumulated shipping chips are kept face down and come in denominations of one or five. This prevents other players from being able to determine the exact score of another player. Goods and doubloons are placed in clear view of other players and the totals of each can always be requested by a player. As the game enters its later stages, the unknown quantity of shipping tokens and its denominations require players to consider their options before choosing a role that can end the game.&#10;&#10;In 2011 and mostly afterwards, Puerto Rico was published to include both Puerto Rico: Expansion I &ndash; New Buildings and Puerto Rico: Expansion II &ndash; The Nobles.   These versions are included in the other game entry Puerto Rico (with two expansions), not this regular game entry for Puerto Rico.&#10;&#10;\",\n",
       "  'publisher': None,\n",
       "  'not_recommended': 1,\n",
       "  'ratingscount': 57203,\n",
       "  'image': 'https://cf.geekdo-images.com/original/img/RvdWBkmDks7AN8sodR4PyVcponA=/0x0/pic158548.jpg',\n",
       "  'playingtime': 150,\n",
       "  'avgrating': 7.91444,\n",
       "  'minplaytime': 90,\n",
       "  'published': 2002,\n",
       "  'maxplaytime': 150,\n",
       "  'minplayers': 3,\n",
       "  'minage': 12,\n",
       "  'maxplayers': 5,\n",
       "  'suggestedage': 12,\n",
       "  'mechanics': ['Variable Phase Order'],\n",
       "  'categories': ['Economic', 'Farming', 'City Building'],\n",
       "  'artists': ['Harald Lieske', 'Franz Vohwinkel']},\n",
       " {'id': 68448,\n",
       "  'language_dependence': 1,\n",
       "  'best': 4,\n",
       "  'name': '7 Wonders',\n",
       "  'designer': None,\n",
       "  'recommended': 3,\n",
       "  'description': \"You are the leader of one of the 7 great cities of the Ancient World. Gather resources, develop commercial routes, and affirm your military supremacy. Build your city and erect an architectural wonder which will transcend future times.&#10;&#10;7 Wonders lasts three ages. In each age, players receive seven cards from a particular deck, choose one of those cards, then pass the remainder to an adjacent player. Players reveal their cards simultaneously, paying resources if needed or collecting resources or interacting with other players in various ways. (Players have individual boards with special powers on which to organize their cards, and the boards are double-sided). Each player then chooses another card from the deck they were passed, and the process repeats until players have six cards in play from that age. After three ages, the game ends.&#10;&#10;In essence, 7 Wonders is a card development game. Some cards have immediate effects, while others provide bonuses or upgrades later in the game. Some cards provide discounts on future purchases. Some provide military strength to overpower your neighbors and others give nothing but victory points. Each card is played immediately after being drafted, so you'll know which cards your neighbor is receiving and how his choices might affect what you've already built up. Cards are passed left-right-left over the three ages, so you need to keep an eye on the neighbors in both directions.&#10;&#10;Though the box of earlier editions is listed as being for 3&ndash;7 players, there is an official 2-player variant included in the instructions.&#10;&#10;\",\n",
       "  'publisher': None,\n",
       "  'not_recommended': 1,\n",
       "  'ratingscount': 70655,\n",
       "  'image': None,\n",
       "  'playingtime': 30,\n",
       "  'avgrating': 7.68288,\n",
       "  'minplaytime': 30,\n",
       "  'published': 2010,\n",
       "  'maxplaytime': 30,\n",
       "  'minplayers': 2,\n",
       "  'minage': 10,\n",
       "  'maxplayers': 7,\n",
       "  'suggestedage': 10,\n",
       "  'mechanics': ['Hand Management',\n",
       "   'Simultaneous Action Selection',\n",
       "   'Set Collection',\n",
       "   'Card Drafting',\n",
       "   'Variable Player Powers'],\n",
       "  'categories': ['Card Game', 'Ancient', 'Civilization', 'City Building'],\n",
       "  'artists': []},\n",
       " {'id': 31260,\n",
       "  'language_dependence': 4,\n",
       "  'best': 4,\n",
       "  'name': 'Agricola',\n",
       "  'designer': None,\n",
       "  'recommended': 2,\n",
       "  'description': \"Description from BoardgameNews&#10;&#10;In Agricola, you're a farmer in a wooden shack with your spouse and little else. On a turn, you get to take only two actions, one for you and one for the spouse, from all the possibilities you'll find on a farm: collecting clay, wood, or stone; building fences; and so on. You might think about having kids in order to get more work accomplished, but first you need to expand your house. And what are you going to feed all the little rugrats?&#10;&#10;The game supports many levels of complexity, mainly through the use (or non-use) of two of its main types of cards, Minor Improvements and Occupations. In the beginner's version (called the Family Variant in the U.S. release), these cards are not used at all. For advanced play, the U.S. release includes three levels of both types of cards; Basic (E-deck), Interactive (I-deck), and Complex (K-deck), and the rulebook encourages players to experiment with the various decks and mixtures thereof. Aftermarket decks such as the Z-Deck and the L-Deck also exist.&#10;&#10;Agricola is a turn-based game. There are 14 game rounds occurring in 6 stages, with a Harvest at the end of each stage (after Rounds 4, 7, 9, 11, 13, and 14).&#10;Each player starts with two playing tokens (farmer and spouse) and thus can take two turns, or actions, per round. There are multiple options, and while the game progresses, you'll have more and more: first thing in a round, a new action card is flipped over.&#10;Problem: Each action can be taken by only one player each round, so it's important to do some things with high preference.&#10;Each player also starts with a hand of 7 Occupation cards (of more than 160 total) and 7 Minor Improvement cards (of more than 140 total) that he/she may use during the game if they fit in his/her strategy. Speaking of which, there are countless strategies, some depending on your card hand. Sometimes it's a good choice to stay on course, and sometimes it is better to react to your opponents' actions.&#10;&#10;\",\n",
       "  'publisher': None,\n",
       "  'not_recommended': 6,\n",
       "  'ratingscount': 57793,\n",
       "  'image': None,\n",
       "  'playingtime': 150,\n",
       "  'avgrating': 7.8798,\n",
       "  'minplaytime': 30,\n",
       "  'published': 2007,\n",
       "  'maxplaytime': 150,\n",
       "  'minplayers': 1,\n",
       "  'minage': 12,\n",
       "  'maxplayers': 5,\n",
       "  'suggestedage': 12,\n",
       "  'mechanics': ['Hand Management',\n",
       "   'Area Enclosure',\n",
       "   'Card Drafting',\n",
       "   'Variable Player Powers'],\n",
       "  'categories': ['Economic', 'Farming', 'Animals'],\n",
       "  'artists': ['Klemens Franz']},\n",
       " {'id': 9209,\n",
       "  'language_dependence': 1,\n",
       "  'best': 4,\n",
       "  'name': 'Ticket to Ride',\n",
       "  'designer': None,\n",
       "  'recommended': 3,\n",
       "  'description': \"With elegantly simple gameplay, Ticket to Ride can be learned in under 15 minutes. Players collect cards of various types of train cars they then use to claim railway routes in North America. The longer the routes, the more points they earn. Additional points come to those who fulfill Destination Tickets &ndash; goal cards that connect distant cities; and to the player who builds the longest continuous route.&#10;&#10;&quot;The rules are simple enough to write on a train ticket &ndash; each turn you either draw more cards, claim a route, or get additional Destination Tickets,&quot; says Ticket to Ride author, Alan R. Moon. &quot;The tension comes from being forced to balance greed &ndash; adding more cards to your hand, and fear &ndash; losing a critical route to a competitor.&quot;&#10;&#10;Ticket to Ride continues in the tradition of Days of Wonder's big format board games featuring high-quality illustrations and components including: an oversize board map of North America, 225 custom-molded train cars, 144 illustrated cards, and wooden scoring markers.&#10;&#10;Since its introduction and numerous subsequent awards, Ticket to Ride has become the BoardGameGeek epitome of a &quot;gateway game&quot; -- simple enough to be taught in a few minutes, and with enough action and tension to keep new players involved and in the game for the duration.&#10;&#10;Part of the Ticket to Ride series.&#10;&#10;\",\n",
       "  'publisher': None,\n",
       "  'not_recommended': 1,\n",
       "  'ratingscount': 61567,\n",
       "  'image': None,\n",
       "  'playingtime': 60,\n",
       "  'avgrating': 7.34082,\n",
       "  'minplaytime': 30,\n",
       "  'published': 2004,\n",
       "  'maxplaytime': 60,\n",
       "  'minplayers': 2,\n",
       "  'minage': 8,\n",
       "  'maxplayers': 5,\n",
       "  'suggestedage': 8,\n",
       "  'mechanics': ['Hand Management',\n",
       "   'Set Collection',\n",
       "   'Card Drafting',\n",
       "   'Route/Network Building'],\n",
       "  'categories': ['Trains'],\n",
       "  'artists': ['Cyrille Daujean']}]"
      ]
     },
     "execution_count": 273,
     "metadata": {},
     "output_type": "execute_result"
    }
   ],
   "source": [
    "get_nearest(['Catan','Codenames'],[])"
   ]
  },
  {
   "cell_type": "code",
   "execution_count": 92,
   "metadata": {},
   "outputs": [],
   "source": [
    "weights = processed.query('id == @neighbors')[['id','avgrating']]"
   ]
  },
  {
   "cell_type": "code",
   "execution_count": 113,
   "metadata": {},
   "outputs": [
    {
     "data": {
      "text/html": [
       "<div>\n",
       "<style scoped>\n",
       "    .dataframe tbody tr th:only-of-type {\n",
       "        vertical-align: middle;\n",
       "    }\n",
       "\n",
       "    .dataframe tbody tr th {\n",
       "        vertical-align: top;\n",
       "    }\n",
       "\n",
       "    .dataframe thead th {\n",
       "        text-align: right;\n",
       "    }\n",
       "</style>\n",
       "<table border=\"1\" class=\"dataframe\">\n",
       "  <thead>\n",
       "    <tr style=\"text-align: right;\">\n",
       "      <th></th>\n",
       "      <th>id</th>\n",
       "      <th>avgrating</th>\n",
       "    </tr>\n",
       "  </thead>\n",
       "  <tbody>\n",
       "    <tr>\n",
       "      <th>11</th>\n",
       "      <td>12</td>\n",
       "      <td>9.398441</td>\n",
       "    </tr>\n",
       "    <tr>\n",
       "      <th>612</th>\n",
       "      <td>709</td>\n",
       "      <td>-0.117067</td>\n",
       "    </tr>\n",
       "  </tbody>\n",
       "</table>\n",
       "</div>"
      ],
      "text/plain": [
       "      id  avgrating\n",
       "11    12   9.398441\n",
       "612  709  -0.117067"
      ]
     },
     "execution_count": 113,
     "metadata": {},
     "output_type": "execute_result"
    }
   ],
   "source": [
    "weights"
   ]
  },
  {
   "cell_type": "code",
   "execution_count": 131,
   "metadata": {
    "scrolled": true
   },
   "outputs": [],
   "source": [
    "neighbors_test = [results[1] for results in sorted([(resident[0]/weight, resident[1]) for resident, weight in list(zip(list(zip(dists,neighbors)),weights.avgrating))],key=lambda x: x[0])]"
   ]
  },
  {
   "cell_type": "code",
   "execution_count": 109,
   "metadata": {},
   "outputs": [
    {
     "data": {
      "text/plain": [
       "(-35.193948948297006, 709)"
      ]
     },
     "execution_count": 109,
     "metadata": {},
     "output_type": "execute_result"
    }
   ],
   "source": [
    "dists_test"
   ]
  },
  {
   "cell_type": "code",
   "execution_count": 132,
   "metadata": {},
   "outputs": [
    {
     "data": {
      "text/plain": [
       "[709, 12]"
      ]
     },
     "execution_count": 132,
     "metadata": {},
     "output_type": "execute_result"
    }
   ],
   "source": [
    "neighbors_test"
   ]
  },
  {
   "cell_type": "code",
   "execution_count": 56,
   "metadata": {},
   "outputs": [
    {
     "data": {
      "text/html": [
       "<div>\n",
       "<style scoped>\n",
       "    .dataframe tbody tr th:only-of-type {\n",
       "        vertical-align: middle;\n",
       "    }\n",
       "\n",
       "    .dataframe tbody tr th {\n",
       "        vertical-align: top;\n",
       "    }\n",
       "\n",
       "    .dataframe thead th {\n",
       "        text-align: right;\n",
       "    }\n",
       "</style>\n",
       "<table border=\"1\" class=\"dataframe\">\n",
       "  <thead>\n",
       "    <tr style=\"text-align: right;\">\n",
       "      <th></th>\n",
       "      <th>id</th>\n",
       "      <th>avgrating</th>\n",
       "    </tr>\n",
       "  </thead>\n",
       "  <tbody>\n",
       "    <tr>\n",
       "      <th>11</th>\n",
       "      <td>12</td>\n",
       "      <td>9.398441</td>\n",
       "    </tr>\n",
       "    <tr>\n",
       "      <th>612</th>\n",
       "      <td>709</td>\n",
       "      <td>-0.117067</td>\n",
       "    </tr>\n",
       "  </tbody>\n",
       "</table>\n",
       "</div>"
      ],
      "text/plain": [
       "      id  avgrating\n",
       "11    12   9.398441\n",
       "612  709  -0.117067"
      ]
     },
     "execution_count": 56,
     "metadata": {},
     "output_type": "execute_result"
    }
   ],
   "source": [
    "processed.query('id == @neighbors')[['id','avgrating']]"
   ]
  },
  {
   "cell_type": "code",
   "execution_count": 72,
   "metadata": {},
   "outputs": [
    {
     "data": {
      "text/plain": [
       "11     0.939844\n",
       "612   -0.117067\n",
       "dtype: float64"
      ]
     },
     "execution_count": 72,
     "metadata": {},
     "output_type": "execute_result"
    }
   ],
   "source": [
    "processed.query('id == @neighbors')[['id','avgrating']].apply(lambda x: x['avgrating']/10 if x['id']==12 else x['avgrating'],axis=1)\n"
   ]
  },
  {
   "cell_type": "code",
   "execution_count": 55,
   "metadata": {},
   "outputs": [
    {
     "name": "stdout",
     "output_type": "stream",
     "text": [
      "id\n",
      "avgrating\n"
     ]
    }
   ],
   "source": [
    "for row in processed.query('id == @neighbors')[['id','avgrating']]:\n",
    "    print (row)"
   ]
  },
  {
   "cell_type": "code",
   "execution_count": 76,
   "metadata": {},
   "outputs": [],
   "source": [
    "def filter_mechanics(mechanics, df = processed):\n",
    "    for mechanic in mechanics:\n",
    "        df = df.query(mechanic+'==1')\n",
    "    return df['id'].values.tolist()"
   ]
  },
  {
   "cell_type": "code",
   "execution_count": 8,
   "metadata": {},
   "outputs": [],
   "source": [
    "with open('data.json') as f:\n",
    "    game_json = json.load(f)"
   ]
  },
  {
   "cell_type": "code",
   "execution_count": 123,
   "metadata": {},
   "outputs": [],
   "source": [
    "processed = preprocess(raw)"
   ]
  },
  {
   "cell_type": "code",
   "execution_count": 124,
   "metadata": {
    "scrolled": true
   },
   "outputs": [
    {
     "data": {
      "text/html": [
       "<div>\n",
       "<style scoped>\n",
       "    .dataframe tbody tr th:only-of-type {\n",
       "        vertical-align: middle;\n",
       "    }\n",
       "\n",
       "    .dataframe tbody tr th {\n",
       "        vertical-align: top;\n",
       "    }\n",
       "\n",
       "    .dataframe thead th {\n",
       "        text-align: right;\n",
       "    }\n",
       "</style>\n",
       "<table border=\"1\" class=\"dataframe\">\n",
       "  <thead>\n",
       "    <tr style=\"text-align: right;\">\n",
       "      <th></th>\n",
       "      <th>id</th>\n",
       "      <th>name</th>\n",
       "      <th>description</th>\n",
       "      <th>ratingscount</th>\n",
       "      <th>avgrating</th>\n",
       "      <th>published</th>\n",
       "      <th>minplayers</th>\n",
       "      <th>maxplayers</th>\n",
       "      <th>best</th>\n",
       "      <th>recommended</th>\n",
       "      <th>...</th>\n",
       "      <th>Adventure</th>\n",
       "      <th>Puzzle</th>\n",
       "      <th>Novel-based</th>\n",
       "      <th>Humor</th>\n",
       "      <th>Real-time</th>\n",
       "      <th>Racing</th>\n",
       "      <th>Fantasy</th>\n",
       "      <th>Print &amp; Play</th>\n",
       "      <th>Exploration</th>\n",
       "      <th>Dice</th>\n",
       "    </tr>\n",
       "  </thead>\n",
       "  <tbody>\n",
       "    <tr>\n",
       "      <th>0</th>\n",
       "      <td>1</td>\n",
       "      <td>Die Macher</td>\n",
       "      <td>Die Macher is a game about seven sequential po...</td>\n",
       "      <td>14.832808</td>\n",
       "      <td>0.834453</td>\n",
       "      <td>-1.352941</td>\n",
       "      <td>0.3</td>\n",
       "      <td>0.5</td>\n",
       "      <td>1.0</td>\n",
       "      <td>2.0</td>\n",
       "      <td>...</td>\n",
       "      <td>0</td>\n",
       "      <td>0</td>\n",
       "      <td>0</td>\n",
       "      <td>0</td>\n",
       "      <td>0</td>\n",
       "      <td>0</td>\n",
       "      <td>0</td>\n",
       "      <td>0</td>\n",
       "      <td>0</td>\n",
       "      <td>0</td>\n",
       "    </tr>\n",
       "    <tr>\n",
       "      <th>1</th>\n",
       "      <td>2</td>\n",
       "      <td>Dragonmaster</td>\n",
       "      <td>Dragonmaster is a trick-taking card game based...</td>\n",
       "      <td>1.290221</td>\n",
       "      <td>0.676818</td>\n",
       "      <td>-1.647059</td>\n",
       "      <td>0.3</td>\n",
       "      <td>0.0</td>\n",
       "      <td>0.5</td>\n",
       "      <td>1.0</td>\n",
       "      <td>...</td>\n",
       "      <td>0</td>\n",
       "      <td>0</td>\n",
       "      <td>0</td>\n",
       "      <td>0</td>\n",
       "      <td>0</td>\n",
       "      <td>0</td>\n",
       "      <td>1</td>\n",
       "      <td>0</td>\n",
       "      <td>0</td>\n",
       "      <td>0</td>\n",
       "    </tr>\n",
       "    <tr>\n",
       "      <th>2</th>\n",
       "      <td>3</td>\n",
       "      <td>Samurai</td>\n",
       "      <td>Part of the Knizia tile-laying trilogy, Samura...</td>\n",
       "      <td>42.643533</td>\n",
       "      <td>0.843664</td>\n",
       "      <td>-0.647059</td>\n",
       "      <td>0.2</td>\n",
       "      <td>0.0</td>\n",
       "      <td>0.0</td>\n",
       "      <td>0.0</td>\n",
       "      <td>...</td>\n",
       "      <td>0</td>\n",
       "      <td>0</td>\n",
       "      <td>0</td>\n",
       "      <td>0</td>\n",
       "      <td>0</td>\n",
       "      <td>0</td>\n",
       "      <td>0</td>\n",
       "      <td>0</td>\n",
       "      <td>0</td>\n",
       "      <td>0</td>\n",
       "    </tr>\n",
       "    <tr>\n",
       "      <th>3</th>\n",
       "      <td>4</td>\n",
       "      <td>Tal der Könige</td>\n",
       "      <td>When you see the triangular box and the luxuri...</td>\n",
       "      <td>0.659306</td>\n",
       "      <td>0.664694</td>\n",
       "      <td>-1.000000</td>\n",
       "      <td>0.2</td>\n",
       "      <td>0.0</td>\n",
       "      <td>0.0</td>\n",
       "      <td>2.0</td>\n",
       "      <td>...</td>\n",
       "      <td>0</td>\n",
       "      <td>0</td>\n",
       "      <td>0</td>\n",
       "      <td>0</td>\n",
       "      <td>0</td>\n",
       "      <td>0</td>\n",
       "      <td>0</td>\n",
       "      <td>0</td>\n",
       "      <td>0</td>\n",
       "      <td>0</td>\n",
       "    </tr>\n",
       "    <tr>\n",
       "      <th>4</th>\n",
       "      <td>5</td>\n",
       "      <td>Acquire</td>\n",
       "      <td>In Acquire, each player strategically invests ...</td>\n",
       "      <td>53.690852</td>\n",
       "      <td>0.835071</td>\n",
       "      <td>-2.647059</td>\n",
       "      <td>0.2</td>\n",
       "      <td>1.0</td>\n",
       "      <td>0.5</td>\n",
       "      <td>1.0</td>\n",
       "      <td>...</td>\n",
       "      <td>0</td>\n",
       "      <td>0</td>\n",
       "      <td>0</td>\n",
       "      <td>0</td>\n",
       "      <td>0</td>\n",
       "      <td>0</td>\n",
       "      <td>0</td>\n",
       "      <td>0</td>\n",
       "      <td>0</td>\n",
       "      <td>0</td>\n",
       "    </tr>\n",
       "  </tbody>\n",
       "</table>\n",
       "<p>5 rows × 112 columns</p>\n",
       "</div>"
      ],
      "text/plain": [
       "   id            name                                        description  \\\n",
       "0   1      Die Macher  Die Macher is a game about seven sequential po...   \n",
       "1   2    Dragonmaster  Dragonmaster is a trick-taking card game based...   \n",
       "2   3         Samurai  Part of the Knizia tile-laying trilogy, Samura...   \n",
       "3   4  Tal der Könige  When you see the triangular box and the luxuri...   \n",
       "4   5         Acquire  In Acquire, each player strategically invests ...   \n",
       "\n",
       "   ratingscount  avgrating  published  minplayers  maxplayers  best  \\\n",
       "0     14.832808   0.834453  -1.352941         0.3         0.5   1.0   \n",
       "1      1.290221   0.676818  -1.647059         0.3         0.0   0.5   \n",
       "2     42.643533   0.843664  -0.647059         0.2         0.0   0.0   \n",
       "3      0.659306   0.664694  -1.000000         0.2         0.0   0.0   \n",
       "4     53.690852   0.835071  -2.647059         0.2         1.0   0.5   \n",
       "\n",
       "   recommended  ...  Adventure  Puzzle  Novel-based  Humor  Real-time  Racing  \\\n",
       "0          2.0  ...          0       0            0      0          0       0   \n",
       "1          1.0  ...          0       0            0      0          0       0   \n",
       "2          0.0  ...          0       0            0      0          0       0   \n",
       "3          2.0  ...          0       0            0      0          0       0   \n",
       "4          1.0  ...          0       0            0      0          0       0   \n",
       "\n",
       "   Fantasy  Print & Play  Exploration  Dice  \n",
       "0        0             0            0     0  \n",
       "1        1             0            0     0  \n",
       "2        0             0            0     0  \n",
       "3        0             0            0     0  \n",
       "4        0             0            0     0  \n",
       "\n",
       "[5 rows x 112 columns]"
      ]
     },
     "execution_count": 124,
     "metadata": {},
     "output_type": "execute_result"
    }
   ],
   "source": [
    "processed.head()"
   ]
  },
  {
   "cell_type": "code",
   "execution_count": 16,
   "metadata": {},
   "outputs": [],
   "source": [
    "mechanics=['Adventure','Puzzle']"
   ]
  },
  {
   "cell_type": "code",
   "execution_count": 52,
   "metadata": {},
   "outputs": [
    {
     "data": {
      "text/plain": [
       "[10765,\n",
       " 11531,\n",
       " 31133,\n",
       " 33959,\n",
       " 38430,\n",
       " 42361,\n",
       " 47170,\n",
       " 83330,\n",
       " 127312,\n",
       " 127398,\n",
       " 146508,\n",
       " 161297,\n",
       " 169984,\n",
       " 174805,\n",
       " 185196,\n",
       " 198287,\n",
       " 205059,\n",
       " 207243,\n",
       " 207991,\n",
       " 214484,\n",
       " 218421,\n",
       " 229965,\n",
       " 231618,\n",
       " 234378,\n",
       " 234439,\n",
       " 235465,\n",
       " 242317,\n",
       " 244769,\n",
       " 258451]"
      ]
     },
     "execution_count": 52,
     "metadata": {},
     "output_type": "execute_result"
    }
   ],
   "source": [
    "filter_mechanics(processed,mechanics)"
   ]
  },
  {
   "cell_type": "code",
   "execution_count": null,
   "metadata": {},
   "outputs": [],
   "source": []
  }
 ],
 "metadata": {
  "kernelspec": {
   "display_name": "Python 3",
   "language": "python",
   "name": "python3"
  },
  "language_info": {
   "codemirror_mode": {
    "name": "ipython",
    "version": 3
   },
   "file_extension": ".py",
   "mimetype": "text/x-python",
   "name": "python",
   "nbconvert_exporter": "python",
   "pygments_lexer": "ipython3",
   "version": "3.7.3"
  }
 },
 "nbformat": 4,
 "nbformat_minor": 2
}
