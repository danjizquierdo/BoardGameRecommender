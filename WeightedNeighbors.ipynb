{
 "cells": [
  {
   "cell_type": "code",
   "execution_count": 1,
   "metadata": {},
   "outputs": [
    {
     "name": "stderr",
     "output_type": "stream",
     "text": [
      "//anaconda3/lib/python3.7/site-packages/sklearn/base.py:306: UserWarning: Trying to unpickle estimator NearestNeighbors from version 0.20.2 when using version 0.21.2. This might lead to breaking code or invalid results. Use at your own risk.\n",
      "  UserWarning)\n"
     ]
    }
   ],
   "source": [
    "from sqlalchemy import create_engine\n",
    "import numpy as np\n",
    "import pandas as pd\n",
    "import pickle\n",
    "import json\n",
    "\n",
    "from sklearn.preprocessing import MinMaxScaler, RobustScaler\n",
    "from sklearn.neighbors import NearestNeighbors\n",
    "\n",
    "# Load data\n",
    "eng = create_engine('sqlite:///data/boardgames.db', echo=False)\n",
    "nn = pickle.load(open('0827test.p', 'rb'))\n",
    "raw = pd.read_sql_query(\"SELECT * FROM boardgames\", eng).drop(['index', 'designer', 'publisher'], axis=1)"
   ]
  },
  {
   "cell_type": "code",
   "execution_count": 125,
   "metadata": {},
   "outputs": [
    {
     "data": {
      "text/plain": [
       "count    17575.000000\n",
       "mean         0.652484\n",
       "std          0.092524\n",
       "min          0.000000\n",
       "25%          0.640695\n",
       "50%          0.645855\n",
       "75%          0.662628\n",
       "max          1.000000\n",
       "Name: avgrating, dtype: float64"
      ]
     },
     "execution_count": 125,
     "metadata": {},
     "output_type": "execute_result"
    }
   ],
   "source": [
    "processed.avgrating.describe()"
   ]
  },
  {
   "cell_type": "code",
   "execution_count": 126,
   "metadata": {},
   "outputs": [
    {
     "data": {
      "text/plain": [
       "Index(['Take That', 'Card Drafting', 'Simultaneous Action Selection',\n",
       "       'Trick-taking', 'Pick-up and Deliver', 'Press Your Luck',\n",
       "       'Player Elimination', 'Pattern Recognition', 'Modular Board',\n",
       "       'Roll / Spin and Move', 'Tile Placement', 'Simulation',\n",
       "       'Hand Management', 'Partnerships', 'Trading', 'Role Playing',\n",
       "       'Set Collection', 'Route/Network Building', 'Area Movement', 'Memory',\n",
       "       'Secret Unit Deployment', 'Action / Movement Programming',\n",
       "       'Variable Phase Order', 'Action Point Allowance System',\n",
       "       'Point to Point Movement', 'Campaign / Battle Card Driven',\n",
       "       'Betting/Wagering', 'Stock Holding', 'Area Control / Area Influence',\n",
       "       'Commodity Speculation', 'Cooperative Play', 'Dice Rolling',\n",
       "       'Auction/Bidding', 'Area Enclosure', 'Grid Movement', 'Hex-and-Counter',\n",
       "       'Rock-Paper-Scissors', 'Crayon Rail System', 'Variable Player Powers',\n",
       "       'Pattern Building', 'Voting', 'Territory Building',\n",
       "       'American Civil War', 'Card Game', 'Animals', 'Abstract Strategy',\n",
       "       'Children's Game', 'Trivia', 'Mythology', 'City Building', 'Deduction',\n",
       "       'Movies / TV / Radio theme', 'Farming', 'Electronic', 'Word Game',\n",
       "       'Science Fiction', 'Transportation', 'Renaissance',\n",
       "       'Collectible Components', 'Trains', 'Economic', 'Napoleonic',\n",
       "       'Space Exploration', 'Party Game', 'Industry / Manufacturing',\n",
       "       'Ancient', 'Miniatures', 'Nautical', 'Wargame', 'Medieval',\n",
       "       'Aviation / Flight', 'World War II', 'Murder/Mystery', 'Bluffing',\n",
       "       'World War I', 'Prehistoric', 'Fighting', 'American West', 'Pirates',\n",
       "       'Political', 'Civilization', 'Negotiation', 'Maze', 'Travel', 'Horror',\n",
       "       'Adventure', 'Puzzle', 'Novel-based', 'Humor', 'Real-time', 'Racing',\n",
       "       'Fantasy', 'Print & Play', 'Exploration', 'Dice'],\n",
       "      dtype='object')"
      ]
     },
     "execution_count": 126,
     "metadata": {},
     "output_type": "execute_result"
    }
   ],
   "source": [
    "processed.columns[17:]"
   ]
  },
  {
   "cell_type": "code",
   "execution_count": 118,
   "metadata": {},
   "outputs": [],
   "source": [
    "def preprocess(df):\n",
    "    # Perform scaling and grab relevant features\n",
    "    relevant = ['id', 'name', 'ratingscount', 'avgrating', 'published',\n",
    "       'minplayers', 'maxplayers', 'best', 'recommended', 'not_recommended',\n",
    "       'playingtime', 'minplaytime', 'maxplaytime', 'minage', 'suggestedage',\n",
    "       'language_dependence']\n",
    "\n",
    "    outliers = ['published','best','maxplayers','maxplaytime','minplaytime','not_recommended','playingtime','ratingscount','recommended']\n",
    "    normal = ['language_dependence','minage','minplayers','suggestedage','avgrating']\n",
    "\n",
    "    df[relevant] = df[relevant].apply(lambda x: x.fillna(x.median()) if x.dtype != np.dtype('O') else x,axis=0)\n",
    "\n",
    "    robust = RobustScaler()\n",
    "    df[outliers] = robust.fit_transform(df[outliers])\n",
    "    minmax = MinMaxScaler()\n",
    "    df[normal] = minmax.fit_transform(df[normal])\n",
    "\n",
    "    return df"
   ]
  },
  {
   "cell_type": "code",
   "execution_count": 4,
   "metadata": {},
   "outputs": [],
   "source": [
    "def dropcols(df):\n",
    "    # Return only relevant features for KNN\n",
    "    to_drop = ['id', 'name', 'description', 'avgrating']\n",
    "    return df.drop(to_drop, axis=1)"
   ]
  },
  {
   "cell_type": "code",
   "execution_count": 5,
   "metadata": {},
   "outputs": [],
   "source": [
    "def get_test_array(names):\n",
    "    # Aggregate data for list of names to seed recommendation\n",
    "    inputs = dropcols(processed[processed['name'].isin(names)])\n",
    "    return inputs.mean().values.reshape(1, -1)"
   ]
  },
  {
   "cell_type": "code",
   "execution_count": 26,
   "metadata": {},
   "outputs": [],
   "source": [
    "input_array = get_test_array(['Catan'])"
   ]
  },
  {
   "cell_type": "code",
   "execution_count": 31,
   "metadata": {},
   "outputs": [
    {
     "data": {
      "text/plain": [
       "array([ 2.73665615e+02, -8.23529412e-01,  3.00000000e-01,  0.00000000e+00,\n",
       "        5.00000000e-01,  1.00000000e+00,  0.00000000e+00,  1.25000000e+00,\n",
       "        7.50000000e-01,  1.25000000e+00,  4.00000000e-01,  3.00000000e-01,\n",
       "        2.50000000e-01,  0.00000000e+00,  0.00000000e+00,  0.00000000e+00,\n",
       "        0.00000000e+00,  0.00000000e+00,  0.00000000e+00,  0.00000000e+00,\n",
       "        0.00000000e+00,  1.00000000e+00,  0.00000000e+00,  0.00000000e+00,\n",
       "        0.00000000e+00,  0.00000000e+00,  0.00000000e+00,  1.00000000e+00,\n",
       "        0.00000000e+00,  0.00000000e+00,  1.00000000e+00,  0.00000000e+00,\n",
       "        0.00000000e+00,  0.00000000e+00,  0.00000000e+00,  0.00000000e+00,\n",
       "        0.00000000e+00,  0.00000000e+00,  0.00000000e+00,  0.00000000e+00,\n",
       "        0.00000000e+00,  0.00000000e+00,  0.00000000e+00,  0.00000000e+00,\n",
       "        1.00000000e+00,  0.00000000e+00,  0.00000000e+00,  0.00000000e+00,\n",
       "        0.00000000e+00,  0.00000000e+00,  0.00000000e+00,  0.00000000e+00,\n",
       "        0.00000000e+00,  0.00000000e+00,  0.00000000e+00,  0.00000000e+00,\n",
       "        0.00000000e+00,  0.00000000e+00,  0.00000000e+00,  0.00000000e+00,\n",
       "        0.00000000e+00,  0.00000000e+00,  0.00000000e+00,  0.00000000e+00,\n",
       "        0.00000000e+00,  0.00000000e+00,  0.00000000e+00,  0.00000000e+00,\n",
       "        0.00000000e+00,  0.00000000e+00,  0.00000000e+00,  0.00000000e+00,\n",
       "        0.00000000e+00,  0.00000000e+00,  0.00000000e+00,  0.00000000e+00,\n",
       "        0.00000000e+00,  0.00000000e+00,  0.00000000e+00,  0.00000000e+00,\n",
       "        0.00000000e+00,  0.00000000e+00,  0.00000000e+00,  0.00000000e+00,\n",
       "        0.00000000e+00,  0.00000000e+00,  0.00000000e+00,  0.00000000e+00,\n",
       "        0.00000000e+00,  0.00000000e+00,  0.00000000e+00,  0.00000000e+00,\n",
       "        0.00000000e+00,  0.00000000e+00,  1.00000000e+00,  0.00000000e+00,\n",
       "        0.00000000e+00,  0.00000000e+00,  0.00000000e+00,  0.00000000e+00,\n",
       "        0.00000000e+00,  0.00000000e+00,  0.00000000e+00,  0.00000000e+00,\n",
       "        0.00000000e+00,  0.00000000e+00,  0.00000000e+00,  0.00000000e+00])"
      ]
     },
     "execution_count": 31,
     "metadata": {},
     "output_type": "execute_result"
    }
   ],
   "source": [
    "input_array[0]"
   ]
  },
  {
   "cell_type": "code",
   "execution_count": 37,
   "metadata": {},
   "outputs": [],
   "source": [
    "dists, neighbors = nn.kneighbors(input_array,3)"
   ]
  },
  {
   "cell_type": "code",
   "execution_count": 43,
   "metadata": {},
   "outputs": [],
   "source": [
    "dists=dists.tolist()[0]"
   ]
  },
  {
   "cell_type": "code",
   "execution_count": 44,
   "metadata": {},
   "outputs": [],
   "source": [
    "neighbors=neighbors.tolist()[0]"
   ]
  },
  {
   "cell_type": "code",
   "execution_count": 45,
   "metadata": {},
   "outputs": [
    {
     "data": {
      "text/plain": [
       "((0.0, 12), (4.120048739612911, 709), (7.418377153805491, 7726))"
      ]
     },
     "execution_count": 45,
     "metadata": {},
     "output_type": "execute_result"
    }
   ],
   "source": [
    "tuple(zip(dists,neighbors))"
   ]
  },
  {
   "cell_type": "code",
   "execution_count": 143,
   "metadata": {},
   "outputs": [],
   "source": [
    "def get_nearest(names, mechanics, n=10):\n",
    "    # Grab info for given games\n",
    "    if names:\n",
    "        input_array = get_test_array(names)\n",
    "        # Find the nearest neighbors\n",
    "        dists, neighbors = nn.kneighbors(input_array, n+len(names))\n",
    "        dists = dists.tolist()[0]\n",
    "        neighbors = neighbors.tolist()[0]\n",
    "        neighborhood = list(zip(dists,neighbors))\n",
    "        # Scale distances by inverse of avgrating\n",
    "        weights = processed.query('id == @neighbors')[['id','avgrating']]\n",
    "        if mechanics:\n",
    "            # Prefer games with matching mechanics\n",
    "            mech_games = filter_mechanics(mechanics)\n",
    "            weights.apply(lambda x: x['avgrating']/50 if x['id'] in mech_games else x['avgrating'],axis=1)\n",
    "        neighborhood = [(resident[0]/(2-weight),resident[1]) for resident, weight in list(zip(neighborhood, weights.avgrating))]\n",
    "        # Sort results by new scaled distance\n",
    "        print(neighborhood)\n",
    "        neighbors = [results[1] for results in sorted([(resident[0]/weight, resident[1]) for resident, weight in list(zip(list(zip(dists,neighbors)),weights.avgrating))],key=lambda x: x[0])]\n",
    "        print(neighbors)\n",
    "    # Return results not in the given names\n",
    "    return list(filter(lambda g: g['id'] in neighbors and g['name'] not in names, game_json))[:5]\n"
   ]
  },
  {
   "cell_type": "code",
   "execution_count": 149,
   "metadata": {
    "scrolled": false
   },
   "outputs": [
    {
     "name": "stdout",
     "output_type": "stream",
     "text": [
      "[(3.51543232602219, 8226), (3.264296235985146, 9523), (19.413417328799195, 4797), (28.280981434124207, 7777), (29.514575301353194, 2356), (34.80094644169149, 8689), (36.13703345762666, 7726)]\n",
      "[8226, 9523, 4797, 7777, 2356, 7726, 8689]\n"
     ]
    },
    {
     "data": {
      "text/plain": [
       "[{'id': 2356,\n",
       "  'language_dependence': 4,\n",
       "  'best': 1,\n",
       "  'name': 'Scrabble Sentence Cube Game',\n",
       "  'designer': None,\n",
       "  'recommended': 1,\n",
       "  'description': 'Players in turn roll the 21 word cubes, set the timer and form sentences with the words appearing on the tops of the cubes in a crossword puzzle-like fashion (one word may be part of two sentences - one running vertically and one running horizontally). Turns end when the egg timer runs out. Players score 50 points for each sentence of 7 words or more. All other sentences score the square of the number of words in the sentence (i.e. a 4-word sentence scores 4 X 4, or 16 points). A bonus of 50 points is awarded if all 21 cubes are used. Two points are deducted for each unused cube.&#10;&#10;The 1983 version of the game seems to differ in the number of cubes.  The rules on the inside of the box lid still have a 1971 copyright date, but among other differences, they state that the game contains 27 cubes.  Two of the new cubes are marked with stars on all six sides, making them wild.  From the 1983 rules: &quot;When playing a wild cube, a player must state what word it represents, after which it cannot be changed during that turn.&quot;&#10;&#10;The 1988 version has 24 cubes - two of which are the starred wild dice. The box states that this is the 2nd edition of the game from Coleco Games. Selchow &amp; Righter is credited in the directions as a subsidiary of Coleco Industries, Inc. The majority of the outer box is blue.&#10;&#10;',\n",
       "  'publisher': None,\n",
       "  'not_recommended': 1,\n",
       "  'ratingscount': 124,\n",
       "  'image': None,\n",
       "  'playingtime': 10,\n",
       "  'avgrating': 5.42243,\n",
       "  'minplaytime': 10,\n",
       "  'published': 1971,\n",
       "  'maxplaytime': 10,\n",
       "  'minplayers': 0,\n",
       "  'minage': 10,\n",
       "  'maxplayers': 0,\n",
       "  'suggestedage': 8,\n",
       "  'mechanics': ['Dice Rolling'],\n",
       "  'categories': ['Dice', 'Word Game'],\n",
       "  'artists': []},\n",
       " {'id': 4797,\n",
       "  'language_dependence': None,\n",
       "  'best': 4,\n",
       "  'name': 'Guinness Game of World Records',\n",
       "  'designer': None,\n",
       "  'recommended': 3,\n",
       "  'description': 'Players move around the board and score points for successfully completing dexterity challenges and / or correctly answering questions about things contained within the Guinness Book of World Records.  The dexterity challenges are things like: picking up a string of plastic pieces by only touching the end pieces, bouncing balls into a cup, flicking discs into a goal, etc.&#10;&#10;',\n",
       "  'publisher': None,\n",
       "  'not_recommended': 1,\n",
       "  'ratingscount': 52,\n",
       "  'image': None,\n",
       "  'playingtime': 45,\n",
       "  'avgrating': 5.48564,\n",
       "  'minplaytime': 45,\n",
       "  'published': 1975,\n",
       "  'maxplaytime': 45,\n",
       "  'minplayers': 2,\n",
       "  'minage': 10,\n",
       "  'maxplayers': 6,\n",
       "  'suggestedage': None,\n",
       "  'mechanics': [],\n",
       "  'categories': ['Trivia'],\n",
       "  'artists': []},\n",
       " {'id': 8689,\n",
       "  'language_dependence': 1,\n",
       "  'best': 2,\n",
       "  'name': 'Bunco',\n",
       "  'designer': None,\n",
       "  'recommended': 3,\n",
       "  'description': \"Players ring the bell each time a &quot;Bunco&quot; is rolled or when a player reaches &quot;21.&quot; The object of the game is to have the highest score at the end of six rounds of play.&#10;&#10;Definition of Bunco: A three-of-a-kind of the number that corresponds to the round (three &quot;1's&quot; in Round One, three &quot;2's&quot; in Round Two and so on.) This is often called a &quot;true&quot; Bunco. A true Bunco immediately ends the round and scores 21 points.&#10;&#10;Bunco contains 9 dice (3 of each color). Bunco Party, with 12 dice, is a separate entry.&#10;&#10;\",\n",
       "  'publisher': None,\n",
       "  'not_recommended': 1,\n",
       "  'ratingscount': 237,\n",
       "  'image': None,\n",
       "  'playingtime': 45,\n",
       "  'avgrating': 5.11323,\n",
       "  'minplaytime': 45,\n",
       "  'published': 1855,\n",
       "  'maxplaytime': 45,\n",
       "  'minplayers': 2,\n",
       "  'minage': 8,\n",
       "  'maxplayers': 12,\n",
       "  'suggestedage': 4,\n",
       "  'mechanics': ['Dice Rolling', 'Partnerships'],\n",
       "  'categories': ['Dice', 'Party Game'],\n",
       "  'artists': []}]"
      ]
     },
     "execution_count": 149,
     "metadata": {},
     "output_type": "execute_result"
    }
   ],
   "source": [
    "get_nearest(['Catan','Codenames'],[])"
   ]
  },
  {
   "cell_type": "code",
   "execution_count": 92,
   "metadata": {},
   "outputs": [],
   "source": [
    "weights = processed.query('id == @neighbors')[['id','avgrating']]"
   ]
  },
  {
   "cell_type": "code",
   "execution_count": 113,
   "metadata": {},
   "outputs": [
    {
     "data": {
      "text/html": [
       "<div>\n",
       "<style scoped>\n",
       "    .dataframe tbody tr th:only-of-type {\n",
       "        vertical-align: middle;\n",
       "    }\n",
       "\n",
       "    .dataframe tbody tr th {\n",
       "        vertical-align: top;\n",
       "    }\n",
       "\n",
       "    .dataframe thead th {\n",
       "        text-align: right;\n",
       "    }\n",
       "</style>\n",
       "<table border=\"1\" class=\"dataframe\">\n",
       "  <thead>\n",
       "    <tr style=\"text-align: right;\">\n",
       "      <th></th>\n",
       "      <th>id</th>\n",
       "      <th>avgrating</th>\n",
       "    </tr>\n",
       "  </thead>\n",
       "  <tbody>\n",
       "    <tr>\n",
       "      <th>11</th>\n",
       "      <td>12</td>\n",
       "      <td>9.398441</td>\n",
       "    </tr>\n",
       "    <tr>\n",
       "      <th>612</th>\n",
       "      <td>709</td>\n",
       "      <td>-0.117067</td>\n",
       "    </tr>\n",
       "  </tbody>\n",
       "</table>\n",
       "</div>"
      ],
      "text/plain": [
       "      id  avgrating\n",
       "11    12   9.398441\n",
       "612  709  -0.117067"
      ]
     },
     "execution_count": 113,
     "metadata": {},
     "output_type": "execute_result"
    }
   ],
   "source": [
    "weights"
   ]
  },
  {
   "cell_type": "code",
   "execution_count": 131,
   "metadata": {
    "scrolled": true
   },
   "outputs": [],
   "source": [
    "neighbors_test = [results[1] for results in sorted([(resident[0]/weight, resident[1]) for resident, weight in list(zip(list(zip(dists,neighbors)),weights.avgrating))],key=lambda x: x[0])]"
   ]
  },
  {
   "cell_type": "code",
   "execution_count": 109,
   "metadata": {},
   "outputs": [
    {
     "data": {
      "text/plain": [
       "(-35.193948948297006, 709)"
      ]
     },
     "execution_count": 109,
     "metadata": {},
     "output_type": "execute_result"
    }
   ],
   "source": [
    "dists_test"
   ]
  },
  {
   "cell_type": "code",
   "execution_count": 132,
   "metadata": {},
   "outputs": [
    {
     "data": {
      "text/plain": [
       "[709, 12]"
      ]
     },
     "execution_count": 132,
     "metadata": {},
     "output_type": "execute_result"
    }
   ],
   "source": [
    "neighbors_test"
   ]
  },
  {
   "cell_type": "code",
   "execution_count": 56,
   "metadata": {},
   "outputs": [
    {
     "data": {
      "text/html": [
       "<div>\n",
       "<style scoped>\n",
       "    .dataframe tbody tr th:only-of-type {\n",
       "        vertical-align: middle;\n",
       "    }\n",
       "\n",
       "    .dataframe tbody tr th {\n",
       "        vertical-align: top;\n",
       "    }\n",
       "\n",
       "    .dataframe thead th {\n",
       "        text-align: right;\n",
       "    }\n",
       "</style>\n",
       "<table border=\"1\" class=\"dataframe\">\n",
       "  <thead>\n",
       "    <tr style=\"text-align: right;\">\n",
       "      <th></th>\n",
       "      <th>id</th>\n",
       "      <th>avgrating</th>\n",
       "    </tr>\n",
       "  </thead>\n",
       "  <tbody>\n",
       "    <tr>\n",
       "      <th>11</th>\n",
       "      <td>12</td>\n",
       "      <td>9.398441</td>\n",
       "    </tr>\n",
       "    <tr>\n",
       "      <th>612</th>\n",
       "      <td>709</td>\n",
       "      <td>-0.117067</td>\n",
       "    </tr>\n",
       "  </tbody>\n",
       "</table>\n",
       "</div>"
      ],
      "text/plain": [
       "      id  avgrating\n",
       "11    12   9.398441\n",
       "612  709  -0.117067"
      ]
     },
     "execution_count": 56,
     "metadata": {},
     "output_type": "execute_result"
    }
   ],
   "source": [
    "processed.query('id == @neighbors')[['id','avgrating']]"
   ]
  },
  {
   "cell_type": "code",
   "execution_count": 72,
   "metadata": {},
   "outputs": [
    {
     "data": {
      "text/plain": [
       "11     0.939844\n",
       "612   -0.117067\n",
       "dtype: float64"
      ]
     },
     "execution_count": 72,
     "metadata": {},
     "output_type": "execute_result"
    }
   ],
   "source": [
    "processed.query('id == @neighbors')[['id','avgrating']].apply(lambda x: x['avgrating']/10 if x['id']==12 else x['avgrating'],axis=1)\n"
   ]
  },
  {
   "cell_type": "code",
   "execution_count": 55,
   "metadata": {},
   "outputs": [
    {
     "name": "stdout",
     "output_type": "stream",
     "text": [
      "id\n",
      "avgrating\n"
     ]
    }
   ],
   "source": [
    "for row in processed.query('id == @neighbors')[['id','avgrating']]:\n",
    "    print (row)"
   ]
  },
  {
   "cell_type": "code",
   "execution_count": 76,
   "metadata": {},
   "outputs": [],
   "source": [
    "def filter_mechanics(mechanics, df = processed):\n",
    "    for mechanic in mechanics:\n",
    "        df = df.query(mechanic+'==1')\n",
    "    return df['id'].values.tolist()"
   ]
  },
  {
   "cell_type": "code",
   "execution_count": 8,
   "metadata": {},
   "outputs": [],
   "source": [
    "with open('data.json') as f:\n",
    "    game_json = json.load(f)"
   ]
  },
  {
   "cell_type": "code",
   "execution_count": 123,
   "metadata": {},
   "outputs": [],
   "source": [
    "processed = preprocess(raw)"
   ]
  },
  {
   "cell_type": "code",
   "execution_count": 124,
   "metadata": {
    "scrolled": true
   },
   "outputs": [
    {
     "data": {
      "text/html": [
       "<div>\n",
       "<style scoped>\n",
       "    .dataframe tbody tr th:only-of-type {\n",
       "        vertical-align: middle;\n",
       "    }\n",
       "\n",
       "    .dataframe tbody tr th {\n",
       "        vertical-align: top;\n",
       "    }\n",
       "\n",
       "    .dataframe thead th {\n",
       "        text-align: right;\n",
       "    }\n",
       "</style>\n",
       "<table border=\"1\" class=\"dataframe\">\n",
       "  <thead>\n",
       "    <tr style=\"text-align: right;\">\n",
       "      <th></th>\n",
       "      <th>id</th>\n",
       "      <th>name</th>\n",
       "      <th>description</th>\n",
       "      <th>ratingscount</th>\n",
       "      <th>avgrating</th>\n",
       "      <th>published</th>\n",
       "      <th>minplayers</th>\n",
       "      <th>maxplayers</th>\n",
       "      <th>best</th>\n",
       "      <th>recommended</th>\n",
       "      <th>...</th>\n",
       "      <th>Adventure</th>\n",
       "      <th>Puzzle</th>\n",
       "      <th>Novel-based</th>\n",
       "      <th>Humor</th>\n",
       "      <th>Real-time</th>\n",
       "      <th>Racing</th>\n",
       "      <th>Fantasy</th>\n",
       "      <th>Print &amp; Play</th>\n",
       "      <th>Exploration</th>\n",
       "      <th>Dice</th>\n",
       "    </tr>\n",
       "  </thead>\n",
       "  <tbody>\n",
       "    <tr>\n",
       "      <th>0</th>\n",
       "      <td>1</td>\n",
       "      <td>Die Macher</td>\n",
       "      <td>Die Macher is a game about seven sequential po...</td>\n",
       "      <td>14.832808</td>\n",
       "      <td>0.834453</td>\n",
       "      <td>-1.352941</td>\n",
       "      <td>0.3</td>\n",
       "      <td>0.5</td>\n",
       "      <td>1.0</td>\n",
       "      <td>2.0</td>\n",
       "      <td>...</td>\n",
       "      <td>0</td>\n",
       "      <td>0</td>\n",
       "      <td>0</td>\n",
       "      <td>0</td>\n",
       "      <td>0</td>\n",
       "      <td>0</td>\n",
       "      <td>0</td>\n",
       "      <td>0</td>\n",
       "      <td>0</td>\n",
       "      <td>0</td>\n",
       "    </tr>\n",
       "    <tr>\n",
       "      <th>1</th>\n",
       "      <td>2</td>\n",
       "      <td>Dragonmaster</td>\n",
       "      <td>Dragonmaster is a trick-taking card game based...</td>\n",
       "      <td>1.290221</td>\n",
       "      <td>0.676818</td>\n",
       "      <td>-1.647059</td>\n",
       "      <td>0.3</td>\n",
       "      <td>0.0</td>\n",
       "      <td>0.5</td>\n",
       "      <td>1.0</td>\n",
       "      <td>...</td>\n",
       "      <td>0</td>\n",
       "      <td>0</td>\n",
       "      <td>0</td>\n",
       "      <td>0</td>\n",
       "      <td>0</td>\n",
       "      <td>0</td>\n",
       "      <td>1</td>\n",
       "      <td>0</td>\n",
       "      <td>0</td>\n",
       "      <td>0</td>\n",
       "    </tr>\n",
       "    <tr>\n",
       "      <th>2</th>\n",
       "      <td>3</td>\n",
       "      <td>Samurai</td>\n",
       "      <td>Part of the Knizia tile-laying trilogy, Samura...</td>\n",
       "      <td>42.643533</td>\n",
       "      <td>0.843664</td>\n",
       "      <td>-0.647059</td>\n",
       "      <td>0.2</td>\n",
       "      <td>0.0</td>\n",
       "      <td>0.0</td>\n",
       "      <td>0.0</td>\n",
       "      <td>...</td>\n",
       "      <td>0</td>\n",
       "      <td>0</td>\n",
       "      <td>0</td>\n",
       "      <td>0</td>\n",
       "      <td>0</td>\n",
       "      <td>0</td>\n",
       "      <td>0</td>\n",
       "      <td>0</td>\n",
       "      <td>0</td>\n",
       "      <td>0</td>\n",
       "    </tr>\n",
       "    <tr>\n",
       "      <th>3</th>\n",
       "      <td>4</td>\n",
       "      <td>Tal der Könige</td>\n",
       "      <td>When you see the triangular box and the luxuri...</td>\n",
       "      <td>0.659306</td>\n",
       "      <td>0.664694</td>\n",
       "      <td>-1.000000</td>\n",
       "      <td>0.2</td>\n",
       "      <td>0.0</td>\n",
       "      <td>0.0</td>\n",
       "      <td>2.0</td>\n",
       "      <td>...</td>\n",
       "      <td>0</td>\n",
       "      <td>0</td>\n",
       "      <td>0</td>\n",
       "      <td>0</td>\n",
       "      <td>0</td>\n",
       "      <td>0</td>\n",
       "      <td>0</td>\n",
       "      <td>0</td>\n",
       "      <td>0</td>\n",
       "      <td>0</td>\n",
       "    </tr>\n",
       "    <tr>\n",
       "      <th>4</th>\n",
       "      <td>5</td>\n",
       "      <td>Acquire</td>\n",
       "      <td>In Acquire, each player strategically invests ...</td>\n",
       "      <td>53.690852</td>\n",
       "      <td>0.835071</td>\n",
       "      <td>-2.647059</td>\n",
       "      <td>0.2</td>\n",
       "      <td>1.0</td>\n",
       "      <td>0.5</td>\n",
       "      <td>1.0</td>\n",
       "      <td>...</td>\n",
       "      <td>0</td>\n",
       "      <td>0</td>\n",
       "      <td>0</td>\n",
       "      <td>0</td>\n",
       "      <td>0</td>\n",
       "      <td>0</td>\n",
       "      <td>0</td>\n",
       "      <td>0</td>\n",
       "      <td>0</td>\n",
       "      <td>0</td>\n",
       "    </tr>\n",
       "  </tbody>\n",
       "</table>\n",
       "<p>5 rows × 112 columns</p>\n",
       "</div>"
      ],
      "text/plain": [
       "   id            name                                        description  \\\n",
       "0   1      Die Macher  Die Macher is a game about seven sequential po...   \n",
       "1   2    Dragonmaster  Dragonmaster is a trick-taking card game based...   \n",
       "2   3         Samurai  Part of the Knizia tile-laying trilogy, Samura...   \n",
       "3   4  Tal der Könige  When you see the triangular box and the luxuri...   \n",
       "4   5         Acquire  In Acquire, each player strategically invests ...   \n",
       "\n",
       "   ratingscount  avgrating  published  minplayers  maxplayers  best  \\\n",
       "0     14.832808   0.834453  -1.352941         0.3         0.5   1.0   \n",
       "1      1.290221   0.676818  -1.647059         0.3         0.0   0.5   \n",
       "2     42.643533   0.843664  -0.647059         0.2         0.0   0.0   \n",
       "3      0.659306   0.664694  -1.000000         0.2         0.0   0.0   \n",
       "4     53.690852   0.835071  -2.647059         0.2         1.0   0.5   \n",
       "\n",
       "   recommended  ...  Adventure  Puzzle  Novel-based  Humor  Real-time  Racing  \\\n",
       "0          2.0  ...          0       0            0      0          0       0   \n",
       "1          1.0  ...          0       0            0      0          0       0   \n",
       "2          0.0  ...          0       0            0      0          0       0   \n",
       "3          2.0  ...          0       0            0      0          0       0   \n",
       "4          1.0  ...          0       0            0      0          0       0   \n",
       "\n",
       "   Fantasy  Print & Play  Exploration  Dice  \n",
       "0        0             0            0     0  \n",
       "1        1             0            0     0  \n",
       "2        0             0            0     0  \n",
       "3        0             0            0     0  \n",
       "4        0             0            0     0  \n",
       "\n",
       "[5 rows x 112 columns]"
      ]
     },
     "execution_count": 124,
     "metadata": {},
     "output_type": "execute_result"
    }
   ],
   "source": [
    "processed.head()"
   ]
  },
  {
   "cell_type": "code",
   "execution_count": 16,
   "metadata": {},
   "outputs": [],
   "source": [
    "mechanics=['Adventure','Puzzle']"
   ]
  },
  {
   "cell_type": "code",
   "execution_count": 52,
   "metadata": {},
   "outputs": [
    {
     "data": {
      "text/plain": [
       "[10765,\n",
       " 11531,\n",
       " 31133,\n",
       " 33959,\n",
       " 38430,\n",
       " 42361,\n",
       " 47170,\n",
       " 83330,\n",
       " 127312,\n",
       " 127398,\n",
       " 146508,\n",
       " 161297,\n",
       " 169984,\n",
       " 174805,\n",
       " 185196,\n",
       " 198287,\n",
       " 205059,\n",
       " 207243,\n",
       " 207991,\n",
       " 214484,\n",
       " 218421,\n",
       " 229965,\n",
       " 231618,\n",
       " 234378,\n",
       " 234439,\n",
       " 235465,\n",
       " 242317,\n",
       " 244769,\n",
       " 258451]"
      ]
     },
     "execution_count": 52,
     "metadata": {},
     "output_type": "execute_result"
    }
   ],
   "source": [
    "filter_mechanics(processed,mechanics)"
   ]
  },
  {
   "cell_type": "code",
   "execution_count": null,
   "metadata": {},
   "outputs": [],
   "source": []
  }
 ],
 "metadata": {
  "kernelspec": {
   "display_name": "Python 3",
   "language": "python",
   "name": "python3"
  },
  "language_info": {
   "codemirror_mode": {
    "name": "ipython",
    "version": 3
   },
   "file_extension": ".py",
   "mimetype": "text/x-python",
   "name": "python",
   "nbconvert_exporter": "python",
   "pygments_lexer": "ipython3",
   "version": "3.7.3"
  }
 },
 "nbformat": 4,
 "nbformat_minor": 2
}
