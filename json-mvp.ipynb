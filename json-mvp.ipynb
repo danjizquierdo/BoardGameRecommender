{
 "cells": [
  {
   "cell_type": "code",
   "execution_count": 265,
   "metadata": {},
   "outputs": [],
   "source": [
    "from alchemyDB import *\n",
    "from create_objects import *\n",
    "import sqlalchemy\n",
    "from sqlalchemy import orm\n",
    "import time\n",
    "import pprint\n",
    "from sqlalchemy.orm import sessionmaker\n",
    "from sqlalchemy.sql.expression import func\n",
    "from sqlalchemy import inspect\n",
    "import pandas as pd\n",
    "\n",
    "engine = create_engine('sqlite:///boardgames.db')\n",
    "Session = sessionmaker(bind=engine, autoflush=False)\n",
    "session = Session()"
   ]
  },
  {
   "cell_type": "code",
   "execution_count": 280,
   "metadata": {},
   "outputs": [],
   "source": [
    "def game_to_json(o):\n",
    "    og = vars(o) \n",
    "    keys = og.keys()\n",
    "    extra = ['_sa_instance_state', 'mechanics', 'categories', 'artists']\n",
    "    \n",
    "    d = {k: v for k, v in og.items() if k not in extra}\n",
    "    d['mechanics'] = [m.name for m in o.mechanics]\n",
    "    d['categories'] = [c.name for c in o.categories]\n",
    "    d['artists'] = [a.name for a in o.artists]\n",
    "    \n",
    "    for k, v in d.items():\n",
    "        if v == '-100':\n",
    "            d[k] = None\n",
    "    \n",
    "    return d"
   ]
  },
  {
   "cell_type": "markdown",
   "metadata": {
    "heading_collapsed": true
   },
   "source": [
    "## MVP lol"
   ]
  },
  {
   "cell_type": "code",
   "execution_count": 12,
   "metadata": {
    "hidden": true
   },
   "outputs": [],
   "source": [
    "from sklearn.neighbors import NearestNeighbors\n",
    "nn = NearestNeighbors(n_neighbors=5)\n",
    "df = pd.read_sql_query(\"SELECT * FROM games\", engine)\n",
    "relevant = ['id', 'name', 'ratingscount', 'avgrating', 'published',\n",
    "       'minplayers', 'maxplayers', 'best', 'recommended', 'not_recommended',\n",
    "       'playingtime', 'minplaytime', 'maxplaytime', 'minage', 'suggestedage',\n",
    "       'language_dependence']\n",
    "fullX = df[relevant].dropna()\n",
    "X = fullX.drop(['id', 'name'], axis=1)"
   ]
  },
  {
   "cell_type": "code",
   "execution_count": 66,
   "metadata": {
    "hidden": true
   },
   "outputs": [],
   "source": [
    "nn.fit(X.values)\n",
    "import pickle\n",
    "\n",
    "pickle.dump(nn, open('testnn.p', 'wb'))"
   ]
  },
  {
   "cell_type": "code",
   "execution_count": 67,
   "metadata": {
    "hidden": true
   },
   "outputs": [],
   "source": [
    "loaded_model = pickle.load(open('testnn.p', 'rb'))"
   ]
  },
  {
   "cell_type": "code",
   "execution_count": 68,
   "metadata": {
    "hidden": true
   },
   "outputs": [
    {
     "data": {
      "text/plain": [
       "array([[  56, 2015, 1517,  299,  841, 1770]])"
      ]
     },
     "execution_count": 68,
     "metadata": {},
     "output_type": "execute_result"
    }
   ],
   "source": [
    "loaded_model.kneighbors(test.values.reshape(1, -1), 6)[-1]"
   ]
  },
  {
   "cell_type": "code",
   "execution_count": 69,
   "metadata": {
    "hidden": true
   },
   "outputs": [
    {
     "data": {
      "text/plain": [
       "array([[3.49000e+02, 5.66331e+00, 1.97400e+03, 2.00000e+00, 4.00000e+00,\n",
       "        2.00000e+00, 2.00000e+00, 1.00000e+00, 1.20000e+02, 1.20000e+02,\n",
       "        1.20000e+02, 1.00000e+01, 1.20000e+01, 1.00000e+00]])"
      ]
     },
     "execution_count": 69,
     "metadata": {},
     "output_type": "execute_result"
    }
   ],
   "source": [
    "test.values.reshape(1, -1)"
   ]
  },
  {
   "cell_type": "code",
   "execution_count": 37,
   "metadata": {
    "hidden": true
   },
   "outputs": [
    {
     "data": {
      "text/html": [
       "<div>\n",
       "<style scoped>\n",
       "    .dataframe tbody tr th:only-of-type {\n",
       "        vertical-align: middle;\n",
       "    }\n",
       "\n",
       "    .dataframe tbody tr th {\n",
       "        vertical-align: top;\n",
       "    }\n",
       "\n",
       "    .dataframe thead th {\n",
       "        text-align: right;\n",
       "    }\n",
       "</style>\n",
       "<table border=\"1\" class=\"dataframe\">\n",
       "  <thead>\n",
       "    <tr style=\"text-align: right;\">\n",
       "      <th></th>\n",
       "      <th>id</th>\n",
       "      <th>name</th>\n",
       "      <th>ratingscount</th>\n",
       "      <th>avgrating</th>\n",
       "      <th>published</th>\n",
       "      <th>minplayers</th>\n",
       "      <th>maxplayers</th>\n",
       "      <th>best</th>\n",
       "      <th>recommended</th>\n",
       "      <th>not_recommended</th>\n",
       "      <th>playingtime</th>\n",
       "      <th>minplaytime</th>\n",
       "      <th>maxplaytime</th>\n",
       "      <th>minage</th>\n",
       "      <th>suggestedage</th>\n",
       "      <th>language_dependence</th>\n",
       "    </tr>\n",
       "  </thead>\n",
       "  <tbody>\n",
       "    <tr>\n",
       "      <th>63</th>\n",
       "      <td>67</td>\n",
       "      <td>Conquest</td>\n",
       "      <td>349</td>\n",
       "      <td>5.66331</td>\n",
       "      <td>1974</td>\n",
       "      <td>2</td>\n",
       "      <td>4</td>\n",
       "      <td>2.0</td>\n",
       "      <td>2.0</td>\n",
       "      <td>1.0</td>\n",
       "      <td>120</td>\n",
       "      <td>120</td>\n",
       "      <td>120</td>\n",
       "      <td>10</td>\n",
       "      <td>12.0</td>\n",
       "      <td>1.0</td>\n",
       "    </tr>\n",
       "  </tbody>\n",
       "</table>\n",
       "</div>"
      ],
      "text/plain": [
       "    id      name  ratingscount  avgrating  published  minplayers  maxplayers  \\\n",
       "63  67  Conquest           349    5.66331       1974           2           4   \n",
       "\n",
       "    best  recommended  not_recommended  playingtime  minplaytime  maxplaytime  \\\n",
       "63   2.0          2.0              1.0          120          120          120   \n",
       "\n",
       "    minage  suggestedage  language_dependence  \n",
       "63      10          12.0                  1.0  "
      ]
     },
     "execution_count": 37,
     "metadata": {},
     "output_type": "execute_result"
    }
   ],
   "source": [
    "fullX[fullX['id'] == n]"
   ]
  },
  {
   "cell_type": "code",
   "execution_count": 35,
   "metadata": {
    "hidden": true
   },
   "outputs": [
    {
     "data": {
      "text/html": [
       "<div>\n",
       "<style scoped>\n",
       "    .dataframe tbody tr th:only-of-type {\n",
       "        vertical-align: middle;\n",
       "    }\n",
       "\n",
       "    .dataframe tbody tr th {\n",
       "        vertical-align: top;\n",
       "    }\n",
       "\n",
       "    .dataframe thead th {\n",
       "        text-align: right;\n",
       "    }\n",
       "</style>\n",
       "<table border=\"1\" class=\"dataframe\">\n",
       "  <thead>\n",
       "    <tr style=\"text-align: right;\">\n",
       "      <th></th>\n",
       "      <th>ratingscount</th>\n",
       "      <th>avgrating</th>\n",
       "      <th>published</th>\n",
       "      <th>minplayers</th>\n",
       "      <th>maxplayers</th>\n",
       "      <th>best</th>\n",
       "      <th>recommended</th>\n",
       "      <th>not_recommended</th>\n",
       "      <th>playingtime</th>\n",
       "      <th>minplaytime</th>\n",
       "      <th>maxplaytime</th>\n",
       "      <th>minage</th>\n",
       "      <th>suggestedage</th>\n",
       "      <th>language_dependence</th>\n",
       "    </tr>\n",
       "  </thead>\n",
       "  <tbody>\n",
       "    <tr>\n",
       "      <th>63</th>\n",
       "      <td>349</td>\n",
       "      <td>5.66331</td>\n",
       "      <td>1974</td>\n",
       "      <td>2</td>\n",
       "      <td>4</td>\n",
       "      <td>2.0</td>\n",
       "      <td>2.0</td>\n",
       "      <td>1.0</td>\n",
       "      <td>120</td>\n",
       "      <td>120</td>\n",
       "      <td>120</td>\n",
       "      <td>10</td>\n",
       "      <td>12.0</td>\n",
       "      <td>1.0</td>\n",
       "    </tr>\n",
       "  </tbody>\n",
       "</table>\n",
       "</div>"
      ],
      "text/plain": [
       "    ratingscount  avgrating  published  minplayers  maxplayers  best  \\\n",
       "63           349    5.66331       1974           2           4   2.0   \n",
       "\n",
       "    recommended  not_recommended  playingtime  minplaytime  maxplaytime  \\\n",
       "63          2.0              1.0          120          120          120   \n",
       "\n",
       "    minage  suggestedage  language_dependence  \n",
       "63      10          12.0                  1.0  "
      ]
     },
     "execution_count": 35,
     "metadata": {},
     "output_type": "execute_result"
    }
   ],
   "source": [
    "n = 67\n",
    "test = fullX[fullX['id'] == n].drop(['id', 'name'], axis=1)\n",
    "test"
   ]
  },
  {
   "cell_type": "code",
   "execution_count": 36,
   "metadata": {
    "hidden": true
   },
   "outputs": [
    {
     "data": {
      "text/html": [
       "<div>\n",
       "<style scoped>\n",
       "    .dataframe tbody tr th:only-of-type {\n",
       "        vertical-align: middle;\n",
       "    }\n",
       "\n",
       "    .dataframe tbody tr th {\n",
       "        vertical-align: top;\n",
       "    }\n",
       "\n",
       "    .dataframe thead th {\n",
       "        text-align: right;\n",
       "    }\n",
       "</style>\n",
       "<table border=\"1\" class=\"dataframe\">\n",
       "  <thead>\n",
       "    <tr style=\"text-align: right;\">\n",
       "      <th></th>\n",
       "      <th>id</th>\n",
       "      <th>name</th>\n",
       "      <th>ratingscount</th>\n",
       "      <th>avgrating</th>\n",
       "      <th>published</th>\n",
       "      <th>minplayers</th>\n",
       "      <th>maxplayers</th>\n",
       "      <th>best</th>\n",
       "      <th>recommended</th>\n",
       "      <th>not_recommended</th>\n",
       "      <th>playingtime</th>\n",
       "      <th>minplaytime</th>\n",
       "      <th>maxplaytime</th>\n",
       "      <th>minage</th>\n",
       "      <th>suggestedage</th>\n",
       "      <th>language_dependence</th>\n",
       "    </tr>\n",
       "  </thead>\n",
       "  <tbody>\n",
       "    <tr>\n",
       "      <th>3605</th>\n",
       "      <td>5740</td>\n",
       "      <td>Strat-O-Matic Pro Football</td>\n",
       "      <td>342</td>\n",
       "      <td>5.80789</td>\n",
       "      <td>1968</td>\n",
       "      <td>1</td>\n",
       "      <td>2</td>\n",
       "      <td>2.0</td>\n",
       "      <td>1.0</td>\n",
       "      <td>3.0</td>\n",
       "      <td>120</td>\n",
       "      <td>120</td>\n",
       "      <td>120</td>\n",
       "      <td>11</td>\n",
       "      <td>12.0</td>\n",
       "      <td>3.0</td>\n",
       "    </tr>\n",
       "    <tr>\n",
       "      <th>2565</th>\n",
       "      <td>3484</td>\n",
       "      <td>Armada</td>\n",
       "      <td>340</td>\n",
       "      <td>5.42925</td>\n",
       "      <td>1986</td>\n",
       "      <td>2</td>\n",
       "      <td>4</td>\n",
       "      <td>4.0</td>\n",
       "      <td>2.0</td>\n",
       "      <td>5.0</td>\n",
       "      <td>120</td>\n",
       "      <td>120</td>\n",
       "      <td>120</td>\n",
       "      <td>10</td>\n",
       "      <td>12.0</td>\n",
       "      <td>2.0</td>\n",
       "    </tr>\n",
       "    <tr>\n",
       "      <th>370</th>\n",
       "      <td>426</td>\n",
       "      <td>The Battle of the Bulge</td>\n",
       "      <td>366</td>\n",
       "      <td>5.71396</td>\n",
       "      <td>1981</td>\n",
       "      <td>2</td>\n",
       "      <td>2</td>\n",
       "      <td>2.0</td>\n",
       "      <td>1.0</td>\n",
       "      <td>3.0</td>\n",
       "      <td>120</td>\n",
       "      <td>120</td>\n",
       "      <td>120</td>\n",
       "      <td>12</td>\n",
       "      <td>12.0</td>\n",
       "      <td>3.0</td>\n",
       "    </tr>\n",
       "    <tr>\n",
       "      <th>1298</th>\n",
       "      <td>1558</td>\n",
       "      <td>Rogue Trooper</td>\n",
       "      <td>335</td>\n",
       "      <td>5.59232</td>\n",
       "      <td>1987</td>\n",
       "      <td>2</td>\n",
       "      <td>6</td>\n",
       "      <td>4.0</td>\n",
       "      <td>2.0</td>\n",
       "      <td>1.0</td>\n",
       "      <td>120</td>\n",
       "      <td>120</td>\n",
       "      <td>120</td>\n",
       "      <td>12</td>\n",
       "      <td>12.0</td>\n",
       "      <td>3.0</td>\n",
       "    </tr>\n",
       "    <tr>\n",
       "      <th>3088</th>\n",
       "      <td>4454</td>\n",
       "      <td>Statis Pro Football</td>\n",
       "      <td>369</td>\n",
       "      <td>5.67680</td>\n",
       "      <td>1973</td>\n",
       "      <td>1</td>\n",
       "      <td>2</td>\n",
       "      <td>2.0</td>\n",
       "      <td>1.0</td>\n",
       "      <td>3.0</td>\n",
       "      <td>120</td>\n",
       "      <td>120</td>\n",
       "      <td>120</td>\n",
       "      <td>12</td>\n",
       "      <td>12.0</td>\n",
       "      <td>2.0</td>\n",
       "    </tr>\n",
       "  </tbody>\n",
       "</table>\n",
       "</div>"
      ],
      "text/plain": [
       "        id                        name  ratingscount  avgrating  published  \\\n",
       "3605  5740  Strat-O-Matic Pro Football           342    5.80789       1968   \n",
       "2565  3484                      Armada           340    5.42925       1986   \n",
       "370    426     The Battle of the Bulge           366    5.71396       1981   \n",
       "1298  1558               Rogue Trooper           335    5.59232       1987   \n",
       "3088  4454         Statis Pro Football           369    5.67680       1973   \n",
       "\n",
       "      minplayers  maxplayers  best  recommended  not_recommended  playingtime  \\\n",
       "3605           1           2   2.0          1.0              3.0          120   \n",
       "2565           2           4   4.0          2.0              5.0          120   \n",
       "370            2           2   2.0          1.0              3.0          120   \n",
       "1298           2           6   4.0          2.0              1.0          120   \n",
       "3088           1           2   2.0          1.0              3.0          120   \n",
       "\n",
       "      minplaytime  maxplaytime  minage  suggestedage  language_dependence  \n",
       "3605          120          120      11          12.0                  3.0  \n",
       "2565          120          120      10          12.0                  2.0  \n",
       "370           120          120      12          12.0                  3.0  \n",
       "1298          120          120      12          12.0                  3.0  \n",
       "3088          120          120      12          12.0                  2.0  "
      ]
     },
     "execution_count": 36,
     "metadata": {},
     "output_type": "execute_result"
    }
   ],
   "source": [
    "nearest = nn.kneighbors(test.values.reshape(1, -1), 6)[-1]\n",
    "results = nearest.tolist()[0][1:]\n",
    "fullX.iloc[results,:]"
   ]
  }
 ],
 "metadata": {
  "kernelspec": {
   "display_name": "Python 3",
   "language": "python",
   "name": "python3"
  },
  "language_info": {
   "codemirror_mode": {
    "name": "ipython",
    "version": 3
   },
   "file_extension": ".py",
   "mimetype": "text/x-python",
   "name": "python",
   "nbconvert_exporter": "python",
   "pygments_lexer": "ipython3",
   "version": "3.7.2"
  },
  "toc": {
   "base_numbering": 1,
   "nav_menu": {},
   "number_sections": false,
   "sideBar": true,
   "skip_h1_title": false,
   "title_cell": "Table of Contents",
   "title_sidebar": "Contents",
   "toc_cell": false,
   "toc_position": {},
   "toc_section_display": true,
   "toc_window_display": false
  }
 },
 "nbformat": 4,
 "nbformat_minor": 2
}
