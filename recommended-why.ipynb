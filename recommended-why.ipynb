{
 "cells": [
  {
   "cell_type": "code",
   "execution_count": 46,
   "metadata": {},
   "outputs": [],
   "source": [
    "from pipeline import *"
   ]
  },
  {
   "cell_type": "code",
   "execution_count": 44,
   "metadata": {},
   "outputs": [],
   "source": [
    "cols = dropcols(processed).columns.tolist()\n",
    "\n",
    "def featurecloseness(inputs, output):\n",
    "    # takes in the names of inputs and also results!\n",
    "    \n",
    "    invalues = dict(zip(cols, get_test_array(inputs)[0]))\n",
    "    relevantvals = {k: v for k, v in invalues.items() if v != 0}\n",
    "    \n",
    "    output = dropcols(processed[processed['name'] == output]).values.reshape(1, -1)\n",
    "    \n",
    "    outvalues = dict(zip(cols, output[0]))\n",
    "    outrelevant = {k: outvalues[k] for k in relevantvals.keys()}\n",
    "    diffdict = {k: abs(outrelevant[k] - relevantvals[k]) for k in relevantvals.keys()}\n",
    "    \n",
    "    return {'features': [r[0] for r in sorted(diffdict.items(), key=lambda kv: kv[1])[:3]]}"
   ]
  },
  {
   "cell_type": "code",
   "execution_count": 47,
   "metadata": {},
   "outputs": [
    {
     "data": {
      "text/plain": [
       "{'features': ['minplayers', 'minage', 'language_dependence']}"
      ]
     },
     "execution_count": 47,
     "metadata": {},
     "output_type": "execute_result"
    }
   ],
   "source": [
    "featurecloseness(['Catan', 'Pandemic'], 'Die Macher')"
   ]
  },
  {
   "cell_type": "code",
   "execution_count": null,
   "metadata": {},
   "outputs": [],
   "source": []
  }
 ],
 "metadata": {
  "kernelspec": {
   "display_name": "Python 3",
   "language": "python",
   "name": "python3"
  },
  "language_info": {
   "codemirror_mode": {
    "name": "ipython",
    "version": 3
   },
   "file_extension": ".py",
   "mimetype": "text/x-python",
   "name": "python",
   "nbconvert_exporter": "python",
   "pygments_lexer": "ipython3",
   "version": "3.7.2"
  },
  "toc": {
   "base_numbering": 1,
   "nav_menu": {},
   "number_sections": false,
   "sideBar": true,
   "skip_h1_title": false,
   "title_cell": "Table of Contents",
   "title_sidebar": "Contents",
   "toc_cell": false,
   "toc_position": {},
   "toc_section_display": true,
   "toc_window_display": false
  }
 },
 "nbformat": 4,
 "nbformat_minor": 2
}
