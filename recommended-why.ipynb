{
 "cells": [
  {
   "cell_type": "code",
   "execution_count": 1,
   "metadata": {},
   "outputs": [
    {
     "name": "stderr",
     "output_type": "stream",
     "text": [
      "/Users/yshuenlim/anaconda3/lib/python3.7/site-packages/sklearn/preprocessing/data.py:323: DataConversionWarning: Data with input dtype int64, float64 were all converted to float64 by MinMaxScaler.\n",
      "  return self.partial_fit(X, y)\n"
     ]
    }
   ],
   "source": [
    "from pipeline import *"
   ]
  },
  {
   "cell_type": "code",
   "execution_count": 36,
   "metadata": {},
   "outputs": [],
   "source": [
    "cols = dropcols(processed).columns.tolist()\n",
    "def greatbc(inputs, outputs):\n",
    "    # takes in the names of inputs and also results!\n",
    "    \n",
    "    invalues = dict(zip(cols, get_test_array(inputs)[0]))\n",
    "    relevantvals = {k: v for k, v in invalues.items() if v != 0}\n",
    "    outvalues = dict(zip(cols, get_test_array(outputs)[0]))\n",
    "    outrelevant = {k: outvalues[k] for k in relevantvals.keys()}\n",
    "    diffdict = {k: abs(outrelevant[k] - relevantvals[k]) for k in relevantvals.keys()}\n",
    "    \n",
    "    return sorted(diffdict.items(), key=lambda kv: kv[1])"
   ]
  },
  {
   "cell_type": "code",
   "execution_count": 37,
   "metadata": {},
   "outputs": [
    {
     "data": {
      "text/plain": [
       "[('minplayers', 0.050000000000000044),\n",
       " ('minage', 0.20000000000000007),\n",
       " ('language_dependence', 0.25),\n",
       " ('suggestedage', 0.25000000000000006),\n",
       " ('best', 0.5),\n",
       " ('Modular Board', 0.5),\n",
       " ('Hand Management', 0.5),\n",
       " ('Set Collection', 0.5),\n",
       " ('Route/Network Building', 0.5),\n",
       " ('Action Point Allowance System', 0.5),\n",
       " ('Point to Point Movement', 0.5),\n",
       " ('Cooperative Play', 0.5),\n",
       " ('Dice Rolling', 0.5),\n",
       " ('Variable Player Powers', 0.5),\n",
       " ('Negotiation', 0.5),\n",
       " ('published', 0.911764705882353),\n",
       " ('not_recommended', 1.0),\n",
       " ('Trading', 1.0),\n",
       " ('recommended', 1.5),\n",
       " ('playingtime', 2.625),\n",
       " ('maxplaytime', 2.625),\n",
       " ('minplaytime', 4.6875),\n",
       " ('ratingscount', 256.3753943217665)]"
      ]
     },
     "execution_count": 37,
     "metadata": {},
     "output_type": "execute_result"
    }
   ],
   "source": [
    "greatbc(['Pandemic', 'Catan'], ['Die Macher'])"
   ]
  },
  {
   "cell_type": "code",
   "execution_count": 3,
   "metadata": {},
   "outputs": [],
   "source": [
    "test = get_test_array(['Pandemic', 'Catan'])"
   ]
  },
  {
   "cell_type": "code",
   "execution_count": 23,
   "metadata": {},
   "outputs": [
    {
     "data": {
      "text/plain": [
       "{'ratingscount': 268.7507886435331,\n",
       " 'published': -0.058823529411764705,\n",
       " 'minplayers': 0.2,\n",
       " 'best': 0.5,\n",
       " 'recommended': 0.0,\n",
       " 'not_recommended': 4.0,\n",
       " 'playingtime': 0.0,\n",
       " 'minplaytime': 0.375,\n",
       " 'maxplaytime': 0.0,\n",
       " 'minage': 0.32,\n",
       " 'suggestedage': 0.4,\n",
       " 'language_dependence': 0.25,\n",
       " 'Modular Board': 0.0,\n",
       " 'Hand Management': 1.0,\n",
       " 'Trading': 1.0,\n",
       " 'Set Collection': 1.0,\n",
       " 'Route/Network Building': 0.0,\n",
       " 'Action Point Allowance System': 1.0,\n",
       " 'Point to Point Movement': 1.0,\n",
       " 'Cooperative Play': 1.0,\n",
       " 'Dice Rolling': 0.0,\n",
       " 'Variable Player Powers': 1.0,\n",
       " 'Negotiation': 0.0}"
      ]
     },
     "execution_count": 23,
     "metadata": {},
     "output_type": "execute_result"
    }
   ],
   "source": [
    "result = get_test_array(['Pandemic'])\n",
    "outvalues = dict(zip(cols, result[0]))\n",
    "outrelevant = {k: outvalues[k] for k in relevantvals.keys()}\n",
    "outrelevant"
   ]
  },
  {
   "cell_type": "code",
   "execution_count": 34,
   "metadata": {},
   "outputs": [],
   "source": [
    "diffdict = {k: abs(outrelevant[k] - relevantvals[k]) for k in relevantvals.keys()}"
   ]
  },
  {
   "cell_type": "code",
   "execution_count": 35,
   "metadata": {},
   "outputs": [
    {
     "data": {
      "text/plain": [
       "[('best', 0.0),\n",
       " ('language_dependence', 0.0),\n",
       " ('Trading', 0.0),\n",
       " ('minage', 0.03999999999999998),\n",
       " ('minplayers', 0.04999999999999999),\n",
       " ('suggestedage', 0.04999999999999999),\n",
       " ('minplaytime', 0.1875),\n",
       " ('published', 0.38235294117647056),\n",
       " ('recommended', 0.5),\n",
       " ('Modular Board', 0.5),\n",
       " ('Hand Management', 0.5),\n",
       " ('Set Collection', 0.5),\n",
       " ('Route/Network Building', 0.5),\n",
       " ('Action Point Allowance System', 0.5),\n",
       " ('Point to Point Movement', 0.5),\n",
       " ('Cooperative Play', 0.5),\n",
       " ('Dice Rolling', 0.5),\n",
       " ('Variable Player Powers', 0.5),\n",
       " ('Negotiation', 0.5),\n",
       " ('playingtime', 0.625),\n",
       " ('maxplaytime', 0.625),\n",
       " ('not_recommended', 2.0),\n",
       " ('ratingscount', 2.4574132492113563)]"
      ]
     },
     "execution_count": 35,
     "metadata": {},
     "output_type": "execute_result"
    }
   ],
   "source": [
    "sorted(diffdict.items(), key=lambda kv: kv[1])"
   ]
  },
  {
   "cell_type": "code",
   "execution_count": 14,
   "metadata": {},
   "outputs": [],
   "source": [
    "\n"
   ]
  },
  {
   "cell_type": "code",
   "execution_count": 39,
   "metadata": {},
   "outputs": [],
   "source": [
    "gamelist = []\n",
    "for g in game_json:\n",
    "    g['bggid'] = g.pop('id')"
   ]
  },
  {
   "cell_type": "code",
   "execution_count": 40,
   "metadata": {},
   "outputs": [
    {
     "data": {
      "text/plain": [
       "{'language_dependence': 1,\n",
       " 'best': 5,\n",
       " 'name': 'Die Macher',\n",
       " 'designer': 'Karl-Heinz Schmiel',\n",
       " 'recommended': 4,\n",
       " 'description': 'Die Macher is a game about seven sequential political races in different regions of Germany. Players are in charge of national political parties, and must manage limited resources to help their party to victory. The winning party will have the most victory points after all the regional elections. There are four different ways of scoring victory points. First, each regional election can supply one to eighty victory points, depending on the size of the region and how well your party does in it. Second, if a party wins a regional election and has some media influence in the region, then the party will receive some media-control victory points. Third, each party has a national party membership which will grow as the game progresses and this will supply a fair number of victory points. Lastly, parties score some victory points if their party platform matches the national opinions at the end of the game.&#10;&#10;The 1986 edition featured four parties from the old West Germany and supported 3-4 players. The 1997 edition supports up to five players in the re-united Germany and updated several features of the rules as well.  The 2006 edition also supports up to five players and adds a shorter five-round variant and additional rules updates by the original designer.&#10;&#10;',\n",
       " 'publisher': 'Hans im Glück',\n",
       " 'not_recommended': 2,\n",
       " 'ratingscount': 4819,\n",
       " 'image': None,\n",
       " 'playingtime': 240,\n",
       " 'avgrating': 7.17548,\n",
       " 'minplaytime': 240,\n",
       " 'published': 1986,\n",
       " 'maxplaytime': 240,\n",
       " 'minplayers': 3,\n",
       " 'minage': 14,\n",
       " 'maxplayers': 5,\n",
       " 'suggestedage': 14,\n",
       " 'mechanics': ['Area Control / Area Influence',\n",
       "  'Auction/Bidding',\n",
       "  'Dice Rolling',\n",
       "  'Hand Management',\n",
       "  'Simultaneous Action Selection'],\n",
       " 'categories': ['Economic', 'Negotiation', 'Political'],\n",
       " 'artists': ['Marcus Gschwendtner', 'Harald Lieske'],\n",
       " 'bggid': 1}"
      ]
     },
     "execution_count": 40,
     "metadata": {},
     "output_type": "execute_result"
    }
   ],
   "source": [
    "with open('boardgames.json', 'w') as f:\n",
    "    json.dump(game_json, f)"
   ]
  },
  {
   "cell_type": "code",
   "execution_count": null,
   "metadata": {},
   "outputs": [],
   "source": []
  }
 ],
 "metadata": {
  "kernelspec": {
   "display_name": "Python 3",
   "language": "python",
   "name": "python3"
  },
  "language_info": {
   "codemirror_mode": {
    "name": "ipython",
    "version": 3
   },
   "file_extension": ".py",
   "mimetype": "text/x-python",
   "name": "python",
   "nbconvert_exporter": "python",
   "pygments_lexer": "ipython3",
   "version": "3.7.2"
  },
  "toc": {
   "base_numbering": 1,
   "nav_menu": {},
   "number_sections": false,
   "sideBar": true,
   "skip_h1_title": false,
   "title_cell": "Table of Contents",
   "title_sidebar": "Contents",
   "toc_cell": false,
   "toc_position": {},
   "toc_section_display": true,
   "toc_window_display": false
  }
 },
 "nbformat": 4,
 "nbformat_minor": 2
}
